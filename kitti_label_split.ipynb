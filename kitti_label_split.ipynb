{
 "cells": [
  {
   "cell_type": "markdown",
   "id": "7793d026",
   "metadata": {},
   "source": [
    "### label - Dontcare 없애기"
   ]
  },
  {
   "cell_type": "code",
   "execution_count": 1,
   "id": "10d126ca",
   "metadata": {},
   "outputs": [],
   "source": [
    "import os"
   ]
  },
  {
   "cell_type": "code",
   "execution_count": 2,
   "id": "61da1c79",
   "metadata": {},
   "outputs": [
    {
     "data": {
      "text/plain": [
       "'/Users/Jinmi/Desktop'"
      ]
     },
     "execution_count": 2,
     "metadata": {},
     "output_type": "execute_result"
    }
   ],
   "source": [
    "os.getcwd()"
   ]
  },
  {
   "cell_type": "code",
   "execution_count": 3,
   "id": "56554330",
   "metadata": {},
   "outputs": [],
   "source": [
    "original_dir = '/Users/Jinmi/Desktop/label_2'"
   ]
  },
  {
   "cell_type": "code",
   "execution_count": 4,
   "id": "7f475e5b",
   "metadata": {},
   "outputs": [],
   "source": [
    "original_dir_list = os.listdir(original_dir)"
   ]
  },
  {
   "cell_type": "code",
   "execution_count": 5,
   "id": "d70e2725",
   "metadata": {},
   "outputs": [
    {
     "data": {
      "text/plain": [
       "7481"
      ]
     },
     "execution_count": 5,
     "metadata": {},
     "output_type": "execute_result"
    }
   ],
   "source": [
    "len(original_dir_list)"
   ]
  },
  {
   "cell_type": "code",
   "execution_count": 6,
   "id": "2ab2d9a8",
   "metadata": {},
   "outputs": [
    {
     "data": {
      "text/plain": [
       "'/Users/Jinmi/Desktop/label_2_v1(without_dontcare)'"
      ]
     },
     "execution_count": 6,
     "metadata": {},
     "output_type": "execute_result"
    }
   ],
   "source": [
    "folder_name = 'label_2_v1(without_dontcare)'\n",
    "if not os.path.exists(folder_name):\n",
    "    os.mkdir(folder_name)\n",
    "\n",
    "desktop = '/Users/Jinmi/Desktop'\n",
    "os.chdir(os.path.join(desktop, folder_name))\n",
    "os.getcwd()"
   ]
  },
  {
   "cell_type": "code",
   "execution_count": 8,
   "id": "37267008",
   "metadata": {},
   "outputs": [
    {
     "name": "stdout",
     "output_type": "stream",
     "text": [
      "Car 0.00 0 -1.58 595.09 177.15 637.82 217.56 1.56 1.65 3.69 0.21 1.75 29.98 -1.58\n",
      "Car 0.18 0 2.19 0.00 185.06 198.62 277.08 1.56 1.70 4.41 -10.57 1.84 14.76 1.57\n",
      "Car 0.00 0 -1.16 812.56 169.04 1023.51 293.58 1.53 1.57 3.54 4.59 1.49 10.63 -0.76\n",
      "Car 0.00 1 -1.05 764.98 172.70 947.97 261.04 1.50 1.64 3.99 4.89 1.51 14.18 -0.73\n",
      "Car 0.00 1 -1.08 708.54 177.97 852.27 243.88 1.40 1.65 4.18 4.24 1.55 17.70 -0.85\n",
      "Car 0.00 1 -1.02 688.87 171.19 810.95 231.62 1.59 1.65 3.94 4.11 1.56 21.00 -0.83\n",
      "Car 0.00 2 -0.96 683.58 175.03 795.67 222.45 1.48 1.73 4.06 4.45 1.57 24.64 -0.78\n",
      "Car 0.00 2 -0.85 671.67 172.74 771.02 217.39 1.63 1.61 3.96 4.37 1.64 28.24 -0.70\n",
      "Car 0.00 0 1.69 527.40 180.19 548.84 196.17 1.38 1.47 3.62 -6.45 2.05 64.87 1.60\n",
      "Car 0.00 2 -0.86 643.30 175.11 696.46 195.05 1.40 1.63 4.05 4.40 1.58 52.87 -0.78\n",
      "Van 0.00 2 -0.90 635.67 171.26 682.21 192.14 1.88 1.82 4.64 4.59 1.75 67.31 -0.83\n",
      "Car 0.00 0 1.74 492.21 177.06 516.24 194.15 1.67 1.68 4.49 -10.73 2.11 73.40 1.59\n",
      "DontCare -1 -1 -10 466.85 178.15 483.56 189.65 -1 -1 -1 -1000 -1000 -1000 -10\n",
      "DontCare -1 -1 -10 547.06 176.06 578.35 188.60 -1 -1 -1 -1000 -1000 -1000 -10\n",
      "\n"
     ]
    }
   ],
   "source": [
    "with open(os.path.join(original_dir, original_dir_list[0]), 'r') as f:\n",
    "    print(f.read())"
   ]
  },
  {
   "cell_type": "code",
   "execution_count": 14,
   "id": "9af2f6cf",
   "metadata": {},
   "outputs": [
    {
     "name": "stdout",
     "output_type": "stream",
     "text": [
      "CPU times: user 1.09 s, sys: 2.59 s, total: 3.68 s\n",
      "Wall time: 7.09 s\n"
     ]
    }
   ],
   "source": [
    "%%time\n",
    "to_path = os.path.join(desktop, folder_name)\n",
    "for txt in original_dir_list:\n",
    "    with open(os.path.join(original_dir, txt), 'r') as fr:\n",
    "        lines = []\n",
    "        for line in fr:\n",
    "            if line[:8] != 'DontCare':\n",
    "                lines.append(line)\n",
    "        with open(os.path.join(to_path, txt), 'w') as fw:\n",
    "            fw.writelines(lines)       "
   ]
  },
  {
   "cell_type": "code",
   "execution_count": 15,
   "id": "f2fab117",
   "metadata": {},
   "outputs": [
    {
     "data": {
      "text/plain": [
       "'/Users/Jinmi/Desktop/label_2_v1(without_dontcare)'"
      ]
     },
     "execution_count": 15,
     "metadata": {},
     "output_type": "execute_result"
    }
   ],
   "source": [
    "to_path"
   ]
  },
  {
   "cell_type": "code",
   "execution_count": 16,
   "id": "e250f517",
   "metadata": {},
   "outputs": [
    {
     "data": {
      "text/plain": [
       "7481"
      ]
     },
     "execution_count": 16,
     "metadata": {},
     "output_type": "execute_result"
    }
   ],
   "source": [
    "len(os.listdir(to_path))"
   ]
  },
  {
   "cell_type": "code",
   "execution_count": 17,
   "id": "c2581826",
   "metadata": {},
   "outputs": [
    {
     "name": "stdout",
     "output_type": "stream",
     "text": [
      "Car 0.00 0 -1.58 595.09 177.15 637.82 217.56 1.56 1.65 3.69 0.21 1.75 29.98 -1.58\n",
      "Car 0.18 0 2.19 0.00 185.06 198.62 277.08 1.56 1.70 4.41 -10.57 1.84 14.76 1.57\n",
      "Car 0.00 0 -1.16 812.56 169.04 1023.51 293.58 1.53 1.57 3.54 4.59 1.49 10.63 -0.76\n",
      "Car 0.00 1 -1.05 764.98 172.70 947.97 261.04 1.50 1.64 3.99 4.89 1.51 14.18 -0.73\n",
      "Car 0.00 1 -1.08 708.54 177.97 852.27 243.88 1.40 1.65 4.18 4.24 1.55 17.70 -0.85\n",
      "Car 0.00 1 -1.02 688.87 171.19 810.95 231.62 1.59 1.65 3.94 4.11 1.56 21.00 -0.83\n",
      "Car 0.00 2 -0.96 683.58 175.03 795.67 222.45 1.48 1.73 4.06 4.45 1.57 24.64 -0.78\n",
      "Car 0.00 2 -0.85 671.67 172.74 771.02 217.39 1.63 1.61 3.96 4.37 1.64 28.24 -0.70\n",
      "Car 0.00 0 1.69 527.40 180.19 548.84 196.17 1.38 1.47 3.62 -6.45 2.05 64.87 1.60\n",
      "Car 0.00 2 -0.86 643.30 175.11 696.46 195.05 1.40 1.63 4.05 4.40 1.58 52.87 -0.78\n",
      "Van 0.00 2 -0.90 635.67 171.26 682.21 192.14 1.88 1.82 4.64 4.59 1.75 67.31 -0.83\n",
      "Car 0.00 0 1.74 492.21 177.06 516.24 194.15 1.67 1.68 4.49 -10.73 2.11 73.40 1.59\n",
      "\n"
     ]
    }
   ],
   "source": [
    "with open(os.path.join(to_path, original_dir_list[0]), 'r') as f:\n",
    "    print(f.read())"
   ]
  },
  {
   "cell_type": "markdown",
   "id": "9ddb3a41",
   "metadata": {},
   "source": [
    "### label(DontCare 없앤 버전) -> class 숫자로 변환"
   ]
  },
  {
   "cell_type": "markdown",
   "id": "616278f2",
   "metadata": {},
   "source": [
    "##### 원본 이미지 다운로드"
   ]
  },
  {
   "cell_type": "code",
   "execution_count": 21,
   "id": "ae34e96b",
   "metadata": {},
   "outputs": [
    {
     "data": {
      "text/plain": [
       "'/Users/Jinmi/Desktop'"
      ]
     },
     "execution_count": 21,
     "metadata": {},
     "output_type": "execute_result"
    }
   ],
   "source": [
    "os.chdir(desktop)\n",
    "os.getcwd()"
   ]
  },
  {
   "cell_type": "code",
   "execution_count": 23,
   "id": "0a4d8d86",
   "metadata": {},
   "outputs": [
    {
     "name": "stdout",
     "output_type": "stream",
     "text": [
      "Collecting wget\n",
      "  Using cached wget-3.2.zip (10 kB)\n",
      "  Preparing metadata (setup.py) ... \u001b[?25ldone\n",
      "\u001b[?25hBuilding wheels for collected packages: wget\n",
      "  Building wheel for wget (setup.py) ... \u001b[?25ldone\n",
      "\u001b[?25h  Created wheel for wget: filename=wget-3.2-py3-none-any.whl size=9672 sha256=eb2568f189d639d5147a86eaea286bec10466d8a3ff412790017df54c56f814b\n",
      "  Stored in directory: /Users/Jinmi/Library/Caches/pip/wheels/04/5f/3e/46cc37c5d698415694d83f607f833f83f0149e49b3af9d0f38\n",
      "Successfully built wget\n",
      "Installing collected packages: wget\n",
      "Successfully installed wget-3.2\n",
      "\u001b[33mWARNING: You are using pip version 22.0.4; however, version 22.1 is available.\n",
      "You should consider upgrading via the '/Users/Jinmi/opt/anaconda3/bin/python -m pip install --upgrade pip' command.\u001b[0m\u001b[33m\n",
      "\u001b[0m"
     ]
    }
   ],
   "source": [
    "!pip install wget"
   ]
  },
  {
   "cell_type": "code",
   "execution_count": 25,
   "id": "9bfa145a",
   "metadata": {},
   "outputs": [
    {
     "name": "stdout",
     "output_type": "stream",
     "text": [
      "Running `brew update --preinstall`...\n",
      "\u001b[34m==>\u001b[0m \u001b[1mHomebrew is run entirely by unpaid volunteers. Please consider donating:\u001b[0m\n",
      "  \u001b[4mhttps://github.com/Homebrew/brew#donations\u001b[24m\n",
      "\u001b[34m==>\u001b[0m \u001b[1mAuto-updated Homebrew!\u001b[0m\n",
      "Updated 1 tap (homebrew/core).\n",
      "\u001b[34m==>\u001b[0m \u001b[1mNew Formulae\u001b[0m\n",
      "acl                        httpyac                    observerward\n",
      "age-plugin-yubikey         hut                        octosql\n",
      "ansible-language-server    ifacemaker                 opendht\n",
      "arxiv_latex_cleaner        imposm3                    openjdk@17\n",
      "autocannon                 inih                       postgraphile\n",
      "aws-auth                   jdtls                      powerman-dockerize\n",
      "bartib                     kmod                       primecount\n",
      "bvm                        koka                       quran\n",
      "cloudflare-quiche          kubekey                    release-it\n",
      "compiledb                  libabw                     rslint\n",
      "cpi                        libapplewm                 sdl2_sound\n",
      "criterion                  libcython                  sftpgo\n",
      "dagger                     libmarpa                   shadowsocks-rust\n",
      "dbml-cli                   libtpms                    sophus\n",
      "ddcutil                    libxcrypt                  spidermonkey@78\n",
      "ddh                        libxcvt                    spirv-headers\n",
      "difftastic                 libxfont2                  sqls\n",
      "dotdrop                    lndir                      sse2neon\n",
      "easeprobe                  localtunnel                stanc3\n",
      "ecflow-ui                  ltex-ls                    stylish-haskell\n",
      "epinio                     mapproxy                   testkube\n",
      "fclones                    mariadb@10.6               tradcpp\n",
      "flyctl                     mbt                        trivy\n",
      "fortran-language-server    mbw                        tygo\n",
      "fourmolu                   melody                     ugit\n",
      "freebayes                  micro_inetd                vcluster\n",
      "gemgen                     minimap2                   virt-manager\n",
      "gi-docgen                  mkfontscale                vsce\n",
      "glibc@2.13                 mongodb-atlas-cli          wasm-tools\n",
      "go@1.17                    monika                     wb32-dfu-updater_cli\n",
      "goctl                      mu-repo                    werf\n",
      "gops                       nickel                     xcode-kotlin\n",
      "highs                      nvchecker                  xkbcomp\n",
      "\u001b[34m==>\u001b[0m \u001b[1mUpdated Formulae\u001b[0m\n",
      "Updated 2624 formulae.\n",
      "\u001b[34m==>\u001b[0m \u001b[1mRenamed Formulae\u001b[0m\n",
      "richmd -> rich-cli\n",
      "\u001b[34m==>\u001b[0m \u001b[1mDeleted Formulae\u001b[0m\n",
      "autopano-sift-c     griffon             komposition         szip\n",
      "boost-python        gstreamermm         mozilla-addon-sdk\n",
      "\n",
      "\u001b[34m==>\u001b[0m \u001b[1mDownloading https://ghcr.io/v2/homebrew/core/gettext/manifests/0.21\u001b[0m\n",
      "######################################################################## 100.0%\n",
      "\u001b[34m==>\u001b[0m \u001b[1mDownloading https://ghcr.io/v2/homebrew/core/gettext/blobs/sha256:cdea54f52b\u001b[0m\n",
      "\u001b[34m==>\u001b[0m \u001b[1mDownloading from https://pkg-containers.githubusercontent.com/ghcr1/blobs/sh\u001b[0m\n",
      "######################################################################## 100.0%\n",
      "\u001b[34m==>\u001b[0m \u001b[1mDownloading https://ghcr.io/v2/homebrew/core/libunistring/manifests/1.0\u001b[0m\n",
      "######################################################################## 100.0%\n",
      "\u001b[34m==>\u001b[0m \u001b[1mDownloading https://ghcr.io/v2/homebrew/core/libunistring/blobs/sha256:3b5bb\u001b[0m\n",
      "\u001b[34m==>\u001b[0m \u001b[1mDownloading from https://pkg-containers.githubusercontent.com/ghcr1/blobs/sh\u001b[0m\n",
      "######################################################################## 100.0%\n",
      "\u001b[34m==>\u001b[0m \u001b[1mDownloading https://ghcr.io/v2/homebrew/core/libidn2/manifests/2.3.2\u001b[0m\n",
      "######################################################################## 100.0%\n",
      "\u001b[34m==>\u001b[0m \u001b[1mDownloading https://ghcr.io/v2/homebrew/core/libidn2/blobs/sha256:71c5f183ae\u001b[0m\n",
      "\u001b[34m==>\u001b[0m \u001b[1mDownloading from https://pkg-containers.githubusercontent.com/ghcr1/blobs/sh\u001b[0m\n",
      "######################################################################## 100.0%\n",
      "\u001b[34m==>\u001b[0m \u001b[1mDownloading https://ghcr.io/v2/homebrew/core/ca-certificates/manifests/2022-\u001b[0m\n",
      "######################################################################## 100.0%\n",
      "\u001b[34m==>\u001b[0m \u001b[1mDownloading https://ghcr.io/v2/homebrew/core/ca-certificates/blobs/sha256:c0\u001b[0m\n",
      "\u001b[34m==>\u001b[0m \u001b[1mDownloading from https://pkg-containers.githubusercontent.com/ghcr1/blobs/sh\u001b[0m\n",
      "######################################################################## 100.0%\n",
      "\u001b[34m==>\u001b[0m \u001b[1mDownloading https://ghcr.io/v2/homebrew/core/openssl/1.1/manifests/1.1.1o\u001b[0m\n",
      "######################################################################## 100.0%\n",
      "\u001b[34m==>\u001b[0m \u001b[1mDownloading https://ghcr.io/v2/homebrew/core/openssl/1.1/blobs/sha256:1da475\u001b[0m\n",
      "\u001b[34m==>\u001b[0m \u001b[1mDownloading from https://pkg-containers.githubusercontent.com/ghcr1/blobs/sh\u001b[0m\n",
      "######################################################################## 100.0%\n",
      "\u001b[34m==>\u001b[0m \u001b[1mDownloading https://ghcr.io/v2/homebrew/core/wget/manifests/1.21.3\u001b[0m\n",
      "######################################################################## 100.0%\n",
      "\u001b[34m==>\u001b[0m \u001b[1mDownloading https://ghcr.io/v2/homebrew/core/wget/blobs/sha256:2aadef5aae81e\u001b[0m\n",
      "\u001b[34m==>\u001b[0m \u001b[1mDownloading from https://pkg-containers.githubusercontent.com/ghcr1/blobs/sh\u001b[0m\n",
      "######################################################################## 100.0%\n",
      "\u001b[32m==>\u001b[0m \u001b[1mInstalling dependencies for wget: \u001b[32mgettext\u001b[39m, \u001b[32mlibunistring\u001b[39m, \u001b[32mlibidn2\u001b[39m, \u001b[32mca-certificates\u001b[39m and \u001b[32mopenssl@1.1\u001b[39m\u001b[0m\n",
      "\u001b[32m==>\u001b[0m \u001b[1mInstalling wget dependency: \u001b[32mgettext\u001b[39m\u001b[0m\n",
      "\u001b[34m==>\u001b[0m \u001b[1mPouring gettext--0.21.catalina.bottle.tar.gz\u001b[0m\n",
      "🍺  /usr/local/Cellar/gettext/0.21: 1,953 files, 19.0MB\n",
      "\u001b[32m==>\u001b[0m \u001b[1mInstalling wget dependency: \u001b[32mlibunistring\u001b[39m\u001b[0m\n",
      "\u001b[34m==>\u001b[0m \u001b[1mPouring libunistring--1.0.catalina.bottle.tar.gz\u001b[0m\n",
      "🍺  /usr/local/Cellar/libunistring/1.0: 56 files, 4.8MB\n",
      "\u001b[32m==>\u001b[0m \u001b[1mInstalling wget dependency: \u001b[32mlibidn2\u001b[39m\u001b[0m\n",
      "\u001b[34m==>\u001b[0m \u001b[1mPouring libidn2--2.3.2.catalina.bottle.tar.gz\u001b[0m\n",
      "🍺  /usr/local/Cellar/libidn2/2.3.2: 77 files, 846.5KB\n",
      "\u001b[32m==>\u001b[0m \u001b[1mInstalling wget dependency: \u001b[32mca-certificates\u001b[39m\u001b[0m\n",
      "\u001b[34m==>\u001b[0m \u001b[1mPouring ca-certificates--2022-04-26.all.bottle.tar.gz\u001b[0m\n",
      "\u001b[34m==>\u001b[0m \u001b[1mRegenerating CA certificate bundle from keychain, this may take a while...\u001b[0m\n",
      "🍺  /usr/local/Cellar/ca-certificates/2022-04-26: 3 files, 215.6KB\n",
      "\u001b[32m==>\u001b[0m \u001b[1mInstalling wget dependency: \u001b[32mopenssl@1.1\u001b[39m\u001b[0m\n",
      "\u001b[34m==>\u001b[0m \u001b[1mPouring openssl@1.1--1.1.1o.catalina.bottle.tar.gz\u001b[0m\n",
      "🍺  /usr/local/Cellar/openssl@1.1/1.1.1o: 8,089 files, 18.5MB\n",
      "\u001b[32m==>\u001b[0m \u001b[1mInstalling \u001b[32mwget\u001b[39m\u001b[0m\n",
      "\u001b[34m==>\u001b[0m \u001b[1mPouring wget--1.21.3.catalina.bottle.tar.gz\u001b[0m\n",
      "🍺  /usr/local/Cellar/wget/1.21.3: 89 files, 4.2MB\n",
      "\u001b[34m==>\u001b[0m \u001b[1m`brew cleanup` has not been run in the last 30 days, running now...\u001b[0m\n",
      "Disable this behaviour by setting HOMEBREW_NO_INSTALL_CLEANUP.\n",
      "Hide these hints with HOMEBREW_NO_ENV_HINTS (see `man brew`).\n",
      "Pruned 2 symbolic links and 8 directories from /usr/local\n"
     ]
    }
   ],
   "source": [
    "!brew install wget"
   ]
  },
  {
   "cell_type": "code",
   "execution_count": null,
   "id": "036acd2e",
   "metadata": {},
   "outputs": [
    {
     "name": "stdout",
     "output_type": "stream",
     "text": [
      "--2022-05-19 16:28:53--  https://s3.eu-central-1.amazonaws.com/avg-kitti/data_object_image_2.zip\n",
      "Resolving s3.eu-central-1.amazonaws.com (s3.eu-central-1.amazonaws.com)... 52.219.170.201\n",
      "Connecting to s3.eu-central-1.amazonaws.com (s3.eu-central-1.amazonaws.com)|52.219.170.201|:443... connected.\n",
      "HTTP request sent, awaiting response... 200 OK\n",
      "Length: 12569945557 (12G) [application/zip]\n",
      "Saving to: ‘data_object_image_2.zip’\n",
      "\n",
      "data_object_image_2  76%[==============>     ]   8.93G  1.54MB/s    eta 32m 40s"
     ]
    }
   ],
   "source": [
    "!wget https://s3.eu-central-1.amazonaws.com/avg-kitti/data_object_image_2.zip"
   ]
  },
  {
   "cell_type": "code",
   "execution_count": 19,
   "id": "68859e93",
   "metadata": {},
   "outputs": [
    {
     "data": {
      "text/plain": [
       "'/Users/Jinmi/Desktop/label_2_v1.1(without_dontcare_and_class_convert)'"
      ]
     },
     "execution_count": 19,
     "metadata": {},
     "output_type": "execute_result"
    }
   ],
   "source": [
    "folder_name = 'label_2_v1.1(without_dontcare_and_class_convert)'\n",
    "desktop = '/Users/Jinmi/Desktop'\n",
    "\n",
    "dst_dir = os.path.join(desktop, folder_name)\n",
    "if not os.path.exists(dst_dir):\n",
    "    os.mkdir(dst_dir)\n",
    "\n",
    "os.chdir(dst_dir)\n",
    "os.getcwd()"
   ]
  },
  {
   "cell_type": "code",
   "execution_count": null,
   "id": "75e25698",
   "metadata": {},
   "outputs": [],
   "source": [
    "%%time\n",
    "for txt in original_dir_list:\n",
    "    with open(os.path.join('/Users/Jinmi/Desktop/label_2_v1(without_dontcare)', txt), 'r') as fr:\n",
    "        lines = []\n",
    "        for line in fr:\n",
    "            word_list = line.split()\n",
    "            if line[:8] != 'DontCare':\n",
    "                lines.append(line)\n",
    "        with open(os.path.join(dst_dir, txt), 'w') as fw:\n",
    "            fw.writelines(lines)       "
   ]
  }
 ],
 "metadata": {
  "kernelspec": {
   "display_name": "Python 3 (ipykernel)",
   "language": "python",
   "name": "python3"
  },
  "language_info": {
   "codemirror_mode": {
    "name": "ipython",
    "version": 3
   },
   "file_extension": ".py",
   "mimetype": "text/x-python",
   "name": "python",
   "nbconvert_exporter": "python",
   "pygments_lexer": "ipython3",
   "version": "3.9.7"
  }
 },
 "nbformat": 4,
 "nbformat_minor": 5
}
