{
 "cells": [
  {
   "cell_type": "markdown",
   "id": "79554109",
   "metadata": {},
   "source": [
    "## KITTI 데이터셋에서 Occlusion 관련해서 필요한 라벨들만 추출하고 YOLOv5 포맷으로 변경하기\n",
    "- Occluded `0`인 온전한 자동차 객체의 bbox 라벨을 여러가지 버전으로 분할해서 라벨에 추가했을 때 학습 모델이 어떠한 효과를 내는지 시도하려 했음\n",
    "- 실험은 진행하지 않았지만, 라벨 생성 과정을 아래에 기록"
   ]
  },
  {
   "cell_type": "markdown",
   "id": "a05980e9",
   "metadata": {},
   "source": [
    "### 기본 경로 가져오기"
   ]
  },
  {
   "cell_type": "code",
   "execution_count": 34,
   "id": "859e5210",
   "metadata": {},
   "outputs": [],
   "source": [
    "import os\n",
    "\n",
    "os.chdir('/Users/Jinmi/Desktop')\n",
    "original_dir = '/Users/Jinmi/Desktop/label_2'\n",
    "original_dir_list = os.listdir(original_dir)\n",
    "original_dir_list = sorted(original_dir_list)"
   ]
  },
  {
   "cell_type": "code",
   "execution_count": 35,
   "id": "44d882de",
   "metadata": {},
   "outputs": [
    {
     "data": {
      "text/plain": [
       "['000000.txt',\n",
       " '000001.txt',\n",
       " '000002.txt',\n",
       " '000003.txt',\n",
       " '000004.txt',\n",
       " '000005.txt',\n",
       " '000006.txt',\n",
       " '000007.txt',\n",
       " '000008.txt',\n",
       " '000009.txt',\n",
       " '000010.txt',\n",
       " '000011.txt',\n",
       " '000012.txt',\n",
       " '000013.txt',\n",
       " '000014.txt',\n",
       " '000015.txt',\n",
       " '000016.txt',\n",
       " '000017.txt',\n",
       " '000018.txt',\n",
       " '000019.txt']"
      ]
     },
     "execution_count": 35,
     "metadata": {},
     "output_type": "execute_result"
    }
   ],
   "source": [
    "original_dir_list[:20]"
   ]
  },
  {
   "cell_type": "code",
   "execution_count": 36,
   "id": "d36415ac",
   "metadata": {},
   "outputs": [
    {
     "data": {
      "text/plain": [
       "'/Users/Jinmi/Desktop'"
      ]
     },
     "execution_count": 36,
     "metadata": {},
     "output_type": "execute_result"
    }
   ],
   "source": [
    "os.getcwd()"
   ]
  },
  {
   "cell_type": "markdown",
   "id": "998ef817",
   "metadata": {},
   "source": [
    "### label -> Set 0번 포맷\n",
    "- DontCare 삭제\n",
    "- 'Car', 'Truck', 'Van' 세 개의 클래스에서 `Occluded '0'`인 것만 남기기(`Occluded '1'` 이상은 삭제)"
   ]
  },
  {
   "cell_type": "code",
   "execution_count": 37,
   "id": "3ee634f3",
   "metadata": {},
   "outputs": [
    {
     "data": {
      "text/plain": [
       "'/Users/Jinmi/Desktop/label_set0'"
      ]
     },
     "execution_count": 37,
     "metadata": {},
     "output_type": "execute_result"
    }
   ],
   "source": [
    "# 새로 만들 라벨의 폴더 이름\n",
    "folder_name = 'label_set0'\n",
    "if not os.path.exists(folder_name):\n",
    "    os.mkdir(folder_name)\n",
    "\n",
    "desktop = '/Users/Jinmi/Desktop'\n",
    "os.chdir(os.path.join(desktop, folder_name))\n",
    "os.getcwd()"
   ]
  },
  {
   "cell_type": "code",
   "execution_count": 38,
   "id": "77ee09c8",
   "metadata": {},
   "outputs": [
    {
     "name": "stdout",
     "output_type": "stream",
     "text": [
      "Car 0.96 0 -0.86 0.00 201.43 303.98 369.00 1.50 1.78 3.69 -3.16 1.68 3.35 -1.56\n",
      "Cyclist 0.00 1 -1.60 991.71 147.35 1029.66 217.34 1.72 0.78 1.71 10.47 0.90 18.34 -1.08\n",
      "Car 0.00 1 -0.48 956.95 156.33 1124.69 205.06 1.51 1.75 4.45 14.38 0.76 23.55 0.06\n",
      "Car 0.00 0 1.50 439.37 172.17 476.11 200.79 1.44 1.64 3.68 -7.94 1.02 37.94 1.29\n",
      "Misc 0.00 0 1.76 370.74 169.93 394.17 203.93 1.87 0.86 2.12 -12.61 1.29 40.13 1.46\n",
      "Car 0.00 1 1.92 224.79 176.21 310.48 218.48 1.63 1.78 4.54 -14.14 1.46 29.92 1.49\n",
      "DontCare -1 -1 -10 874.10 153.15 911.13 194.29 -1 -1 -1 -1000 -1000 -1000 -10\n",
      "DontCare -1 -1 -10 621.70 163.74 632.35 175.85 -1 -1 -1 -1000 -1000 -1000 -10\n",
      "\n"
     ]
    }
   ],
   "source": [
    "# 원본 라벨 확인\n",
    "with open(os.path.join(original_dir, original_dir_list[2000]), 'r') as f:\n",
    "    print(f.read())"
   ]
  },
  {
   "cell_type": "code",
   "execution_count": 39,
   "id": "e6de74da",
   "metadata": {},
   "outputs": [
    {
     "name": "stdout",
     "output_type": "stream",
     "text": [
      "['000000.txt', '000001.txt', '000002.txt', '000003.txt', '000004.txt', '000005.txt', '000006.txt', '000007.txt', '000008.txt', '000009.txt']\n",
      "['000990.txt', '000991.txt', '000992.txt', '000993.txt', '000994.txt', '000995.txt', '000996.txt', '000997.txt', '000998.txt', '000999.txt']\n"
     ]
    }
   ],
   "source": [
    "print(original_dir_list[:10])\n",
    "print(original_dir_list[990:1000])"
   ]
  },
  {
   "cell_type": "code",
   "execution_count": 40,
   "id": "1cb79256",
   "metadata": {},
   "outputs": [
    {
     "name": "stdout",
     "output_type": "stream",
     "text": [
      "CPU times: user 689 ms, sys: 1.35 s, total: 2.04 s\n",
      "Wall time: 3.39 s\n"
     ]
    }
   ],
   "source": [
    "%%time\n",
    "to_path = os.path.join(desktop, folder_name)\n",
    "for txt in original_dir_list[1000:6000]: # 학습 시간을 고려해 5000개만 사용한 데이터셋을 생성할 예정\n",
    "    \n",
    "    # 기존 라벨 열기\n",
    "    with open(os.path.join(original_dir, txt), 'r') as fr:\n",
    "        lines = []\n",
    "        for line in fr:\n",
    "            word_list = line.split()\n",
    "            \n",
    "            # DontCare 제외\n",
    "            if word_list[0] == 'DontCare':\n",
    "                continue\n",
    "                \n",
    "            # 세 개의 클래스 중 하나면서 Occluded 0 아니면 제외하기    \n",
    "            if (word_list[2] != '0') and ((word_list[0] == 'Car') or (word_list[0] == 'Van') or (word_list[0] == 'Truck')):\n",
    "                continue\n",
    "            \n",
    "            # 나머지면 추가\n",
    "            lines.append(line)\n",
    "        with open(os.path.join(to_path, txt), 'w') as fw:\n",
    "            fw.writelines(lines)       "
   ]
  },
  {
   "cell_type": "code",
   "execution_count": 41,
   "id": "a717193b",
   "metadata": {},
   "outputs": [
    {
     "name": "stdout",
     "output_type": "stream",
     "text": [
      "Car 0.96 0 -0.86 0.00 201.43 303.98 369.00 1.50 1.78 3.69 -3.16 1.68 3.35 -1.56\n",
      "Cyclist 0.00 1 -1.60 991.71 147.35 1029.66 217.34 1.72 0.78 1.71 10.47 0.90 18.34 -1.08\n",
      "Car 0.00 0 1.50 439.37 172.17 476.11 200.79 1.44 1.64 3.68 -7.94 1.02 37.94 1.29\n",
      "Misc 0.00 0 1.76 370.74 169.93 394.17 203.93 1.87 0.86 2.12 -12.61 1.29 40.13 1.46\n",
      "\n"
     ]
    }
   ],
   "source": [
    "# 변경된 라벨 확인\n",
    "with open(os.path.join(to_path, original_dir_list[2000]), 'r') as f:\n",
    "    print(f.read())"
   ]
  },
  {
   "cell_type": "markdown",
   "id": "911ce1b6",
   "metadata": {},
   "source": [
    "### YOLOv5 라벨로 바꿔주기"
   ]
  },
  {
   "cell_type": "code",
   "execution_count": 42,
   "id": "3cf88d66",
   "metadata": {},
   "outputs": [],
   "source": [
    "try_path = '/Users/Jinmi/Desktop/yolo_labels_set0'\n",
    "if not os.path.exists(try_path):\n",
    "    os.mkdir(try_path)"
   ]
  },
  {
   "cell_type": "code",
   "execution_count": 44,
   "id": "0c2c77c8",
   "metadata": {},
   "outputs": [],
   "source": [
    "import cv2\n",
    "import pandas as pd\n",
    "\n",
    "# 클래스 값을 숫자로 변환해주는 매핑 함수\n",
    "def label_mapping(string):\n",
    "    map_dict = {'Car' : 0,\n",
    "                'Pedestrian' : 1,\n",
    "                'Truck' : 2,\n",
    "                'Cyclist' : 3,\n",
    "                'Van' : 4,\n",
    "                'Tram' : 5,\n",
    "                'Misc' : 6,\n",
    "                'Person_sitting' : 7,\n",
    "                'DontCare' : 8,\n",
    "                }\n",
    "    return map_dict[string]\n",
    "\n",
    "raw_label_root_path = '/Users/Jinmi/Desktop/label_set0'\n",
    "raw_img_root_path = '/Users/Jinmi/Desktop/images/training/image_2'\n",
    "label_filenames = os.listdir(raw_label_root_path)\n",
    "to_path = try_path\n",
    "\n",
    "# 라벨 새로 저장할 경로 생성\n",
    "if not os.path.exists(to_path):\n",
    "    os.mkdir(to_path)\n",
    "\n",
    "# 변환 시 직관적으로 알 수 있게끔 해줄 판다스 데이터프레임 헤더 리스트\n",
    "columns = ['type', 'truncated', 'occluded', 'alpha', 'bbox_l', 'bbox_t', 'bbox_r', 'bbox_b', '3d_h', '3d_w', '3d_l', '3d_x', '3d_y', '3d_z', '3d_rot_y', 'score']\n",
    "\n",
    "# 이미지 경로 전체 돌면서 매칭되는 기존 라벨값 불러온 후 변환 및 다른 경로에 저장\n",
    "for filename in label_filenames:\n",
    "    lab_path = os.path.join(raw_label_root_path, filename)\n",
    "    img_path = os.path.join(raw_img_root_path, filename[:6]+'.png')\n",
    "    img = cv2.imread(img_path, cv2.IMREAD_COLOR)\n",
    "    height = img.shape[0]\n",
    "    width = img.shape[1]\n",
    "    img_id = img_path[-10:-4] # 이미지 넘버\n",
    "    df = pd.read_csv(lab_path, sep=' ', names=columns)\n",
    "\n",
    "    df['type'] = df['type'].map(label_mapping)\n",
    "    df = df[df['type'] != 8] # 혹시 모를 DontCare 제외\n",
    "    # df = df[(df['occluded'] == 1) | (df['occluded'] == 2)]\n",
    "    df['ob_width'] = df['bbox_r'] - df['bbox_l']\n",
    "    df['ob_height'] = df['bbox_b'] - df['bbox_t']\n",
    "    df['x_center'] = df['ob_width'] / 2 + df['bbox_l']\n",
    "    df['y_center'] = df['ob_height'] / 2 + df['bbox_t']\n",
    "    df['norm_x_center'] = df['x_center'] / width\n",
    "    df['norm_y_center'] = df['y_center'] / height\n",
    "    df['norm_ob_width'] = df['ob_width'] / width\n",
    "    df['norm_ob_height'] = df['ob_height'] / height\n",
    "\n",
    "    df_to_save = df.loc[:, ['type', 'norm_x_center', 'norm_y_center', 'norm_ob_width', 'norm_ob_height']]\n",
    "    df_to_save.to_csv(os.path.join(to_path, img_id + '.txt'), sep=' ', index=False, header=False)"
   ]
  },
  {
   "cell_type": "code",
   "execution_count": 45,
   "id": "a08f63e0",
   "metadata": {},
   "outputs": [
    {
     "data": {
      "text/plain": [
       "5000"
      ]
     },
     "execution_count": 45,
     "metadata": {},
     "output_type": "execute_result"
    }
   ],
   "source": [
    "# 개수 확인\n",
    "len(os.listdir(try_path))"
   ]
  },
  {
   "cell_type": "code",
   "execution_count": 49,
   "id": "589b7d7f",
   "metadata": {},
   "outputs": [
    {
     "name": "stdout",
     "output_type": "stream",
     "text": [
      "['001000.txt', '001001.txt', '001002.txt', '001003.txt', '001004.txt', '001005.txt', '001006.txt', '001007.txt', '001008.txt', '001009.txt']\n",
      "['005990.txt', '005991.txt', '005992.txt', '005993.txt', '005994.txt', '005995.txt', '005996.txt', '005997.txt', '005998.txt', '005999.txt']\n"
     ]
    }
   ],
   "source": [
    "# 예상된 것들이 잘 갔는지 확인\n",
    "print(sorted(os.listdir(try_path))[:10])\n",
    "print(sorted(os.listdir(try_path))[-10:])"
   ]
  },
  {
   "cell_type": "code",
   "execution_count": 54,
   "id": "cfdda5c9",
   "metadata": {},
   "outputs": [
    {
     "data": {
      "text/plain": [
       "'002000.txt'"
      ]
     },
     "execution_count": 54,
     "metadata": {},
     "output_type": "execute_result"
    }
   ],
   "source": [
    "original_dir_list[2000]"
   ]
  },
  {
   "cell_type": "code",
   "execution_count": 55,
   "id": "c94b8ca4",
   "metadata": {},
   "outputs": [
    {
     "name": "stdout",
     "output_type": "stream",
     "text": [
      "0 0.1241748366013072 0.7708513513513514 0.2483496732026144 0.4528918918918919\n",
      "3 0.8257230392156863 0.4928243243243243 0.03100490196078435 0.1891621621621622\n",
      "0 0.3739705882352941 0.504 0.030016339869281053 0.07735135135135136\n",
      "6 0.3124632352941177 0.5052162162162163 0.019142156862745105 0.0918918918918919\n",
      "\n"
     ]
    }
   ],
   "source": [
    "# YOLOv5 포맷 변경된 거 확인\n",
    "with open(os.path.join(try_path, '002000.txt'), 'r') as f:\n",
    "    print(f.read())"
   ]
  },
  {
   "cell_type": "markdown",
   "id": "5e74f1aa",
   "metadata": {},
   "source": [
    "### label -> Set 1번 포맷\n",
    "- DontCare 삭제\n",
    "- 'Car', 'Truck', 'Van' 세 개의 클래스에서 `Occluded '0'`인 것 남기기(`Occluded '1'` 이상은 삭제)\n",
    "- 'Car', 'Truck', 'Van' 세 개의 클래스에서 `Occluded '0'`인 건 horizontally, vertically 50%인 것 총 4개 추가하기"
   ]
  },
  {
   "cell_type": "code",
   "execution_count": 56,
   "id": "d9d0e278",
   "metadata": {},
   "outputs": [
    {
     "data": {
      "text/plain": [
       "'/Users/Jinmi/Desktop/label_set1'"
      ]
     },
     "execution_count": 56,
     "metadata": {},
     "output_type": "execute_result"
    }
   ],
   "source": [
    "desktop = '/Users/Jinmi/Desktop'\n",
    "os.chdir(desktop)\n",
    "\n",
    "folder_name = 'label_set1'\n",
    "if not os.path.exists(folder_name):\n",
    "    os.mkdir(folder_name)\n",
    "\n",
    "os.chdir(os.path.join(desktop, folder_name))\n",
    "os.getcwd()"
   ]
  },
  {
   "cell_type": "code",
   "execution_count": 57,
   "id": "3706a891",
   "metadata": {},
   "outputs": [
    {
     "name": "stdout",
     "output_type": "stream",
     "text": [
      "CPU times: user 949 ms, sys: 1.58 s, total: 2.53 s\n",
      "Wall time: 3.84 s\n"
     ]
    }
   ],
   "source": [
    "%%time\n",
    "to_path = os.path.join(desktop, folder_name)\n",
    "for txt in original_dir_list[1000:6000]:\n",
    "    with open(os.path.join(original_dir, txt), 'r') as fr:\n",
    "        lines = []\n",
    "        for line in fr:\n",
    "            word_list = line.split()\n",
    "            \n",
    "            # DontCare 제외\n",
    "            if word_list[0] == 'DontCare':\n",
    "                continue\n",
    "                \n",
    "            # 세 개의 클래스 중 하나면서 Occluded 0 아니면 제외하기    \n",
    "            if (word_list[2] != '0') and ((word_list[0] == 'Car') or (word_list[0] == 'Van') or (word_list[0] == 'Truck')):\n",
    "                continue\n",
    "            \n",
    "            # 나머지면 추가\n",
    "            lines.append(line)\n",
    "            \n",
    "            # Occlusion 0인 'Car', 'Van', 'Truck'은 bbox 4개 라벨 추가하기\n",
    "            if (word_list[2] == '0') and ((word_list[0] == 'Car') or (word_list[0] == 'Van') or (word_list[0] == 'Truck')):\n",
    "                half_x = str((float(word_list[6]) + float(word_list[4])) / 2)\n",
    "                half_y = str((float(word_list[7]) + float(word_list[5])) / 2)\n",
    "                additional_1 = [word_list[0], word_list[1], '4', word_list[3], word_list[4], word_list[5], half_x, word_list[7], \n",
    "                            word_list[8], word_list[9], word_list[10], word_list[11], word_list[12], word_list[13], word_list[14]]\n",
    "                additional_2 = [word_list[0], word_list[1], '4', word_list[3], half_x, word_list[5], word_list[6], word_list[7], \n",
    "                            word_list[8], word_list[9], word_list[10], word_list[11], word_list[12], word_list[13], word_list[14]]\n",
    "                additional_3 = [word_list[0], word_list[1], '4', word_list[3], word_list[4], half_y, word_list[6], word_list[7], \n",
    "                            word_list[8], word_list[9], word_list[10], word_list[11], word_list[12], word_list[13], word_list[14]]\n",
    "                additional_4 = [word_list[0], word_list[1], '4', word_list[3], word_list[4], word_list[5], word_list[6], half_y, \n",
    "                            word_list[8], word_list[9], word_list[10], word_list[11], word_list[12], word_list[13], word_list[14]]  \n",
    "\n",
    "                lines.append(' '.join(additional_1)+'\\n')\n",
    "                lines.append(' '.join(additional_2)+'\\n')\n",
    "                lines.append(' '.join(additional_3)+'\\n')\n",
    "                lines.append(' '.join(additional_4)+'\\n')\n",
    "            \n",
    "        with open(os.path.join(to_path, txt), 'w') as fw:\n",
    "            fw.writelines(lines)       "
   ]
  },
  {
   "cell_type": "code",
   "execution_count": 58,
   "id": "cee66a80",
   "metadata": {},
   "outputs": [
    {
     "name": "stdout",
     "output_type": "stream",
     "text": [
      "Car 0.96 0 -0.86 0.00 201.43 303.98 369.00 1.50 1.78 3.69 -3.16 1.68 3.35 -1.56\n",
      "Car 0.96 4 -0.86 0.00 201.43 151.99 369.00 1.50 1.78 3.69 -3.16 1.68 3.35 -1.56\n",
      "Car 0.96 4 -0.86 151.99 201.43 303.98 369.00 1.50 1.78 3.69 -3.16 1.68 3.35 -1.56\n",
      "Car 0.96 4 -0.86 0.00 285.21500000000003 303.98 369.00 1.50 1.78 3.69 -3.16 1.68 3.35 -1.56\n",
      "Car 0.96 4 -0.86 0.00 201.43 303.98 285.21500000000003 1.50 1.78 3.69 -3.16 1.68 3.35 -1.56\n",
      "Cyclist 0.00 1 -1.60 991.71 147.35 1029.66 217.34 1.72 0.78 1.71 10.47 0.90 18.34 -1.08\n",
      "Car 0.00 0 1.50 439.37 172.17 476.11 200.79 1.44 1.64 3.68 -7.94 1.02 37.94 1.29\n",
      "Car 0.00 4 1.50 439.37 172.17 457.74 200.79 1.44 1.64 3.68 -7.94 1.02 37.94 1.29\n",
      "Car 0.00 4 1.50 457.74 172.17 476.11 200.79 1.44 1.64 3.68 -7.94 1.02 37.94 1.29\n",
      "Car 0.00 4 1.50 439.37 186.48 476.11 200.79 1.44 1.64 3.68 -7.94 1.02 37.94 1.29\n",
      "Car 0.00 4 1.50 439.37 172.17 476.11 186.48 1.44 1.64 3.68 -7.94 1.02 37.94 1.29\n",
      "Misc 0.00 0 1.76 370.74 169.93 394.17 203.93 1.87 0.86 2.12 -12.61 1.29 40.13 1.46\n",
      "\n"
     ]
    }
   ],
   "source": [
    "# 변경된 라벨 확인\n",
    "with open(os.path.join(to_path, original_dir_list[2000]), 'r') as f:\n",
    "    print(f.read())"
   ]
  },
  {
   "cell_type": "markdown",
   "id": "ddd54825",
   "metadata": {},
   "source": [
    "### YOLOv5 라벨로 바꿔주기"
   ]
  },
  {
   "cell_type": "code",
   "execution_count": 59,
   "id": "f30d6927",
   "metadata": {},
   "outputs": [],
   "source": [
    "try_path = '/Users/Jinmi/Desktop/yolo_labels_set1'\n",
    "if not os.path.exists(try_path):\n",
    "    os.mkdir(try_path)"
   ]
  },
  {
   "cell_type": "code",
   "execution_count": 60,
   "id": "3aff2053",
   "metadata": {},
   "outputs": [],
   "source": [
    "import cv2\n",
    "import pandas as pd\n",
    "\n",
    "# 클래스 값을 숫자로 변환해주는 매핑 함수\n",
    "def label_mapping(string):\n",
    "    map_dict = {'Car' : 0,\n",
    "                'Pedestrian' : 1,\n",
    "                'Truck' : 2,\n",
    "                'Cyclist' : 3,\n",
    "                'Van' : 4,\n",
    "                'Tram' : 5,\n",
    "                'Misc' : 6,\n",
    "                'Person_sitting' : 7,\n",
    "                'DontCare' : 8,\n",
    "                }\n",
    "    return map_dict[string]\n",
    "\n",
    "raw_label_root_path = '/Users/Jinmi/Desktop/label_set1'\n",
    "raw_img_root_path = '/Users/Jinmi/Desktop/images/training/image_2'\n",
    "label_filenames = os.listdir(raw_label_root_path)\n",
    "to_path = try_path\n",
    "\n",
    "# 라벨 새로 저장할 경로 생성\n",
    "if not os.path.exists(to_path):\n",
    "    os.mkdir(to_path)\n",
    "\n",
    "# 변환 시 직관적으로 알 수 있게끔 해줄 판다스 데이터프레임 헤더 리스트\n",
    "columns = ['type', 'truncated', 'occluded', 'alpha', 'bbox_l', 'bbox_t', 'bbox_r', 'bbox_b', '3d_h', '3d_w', '3d_l', '3d_x', '3d_y', '3d_z', '3d_rot_y', 'score']\n",
    "\n",
    "# 이미지 경로 전체 돌면서 매칭되는 기존 라벨값 불러온 후 변환 및 다른 경로에 저장\n",
    "for filename in label_filenames:\n",
    "    lab_path = os.path.join(raw_label_root_path, filename)\n",
    "    img_path = os.path.join(raw_img_root_path, filename[:6]+'.png')\n",
    "    img = cv2.imread(img_path, cv2.IMREAD_COLOR)\n",
    "    height = img.shape[0]\n",
    "    width = img.shape[1]\n",
    "    img_id = img_path[-10:-4] # 이미지 넘버\n",
    "    df = pd.read_csv(lab_path, sep=' ', names=columns)\n",
    "\n",
    "    df['type'] = df['type'].map(label_mapping)\n",
    "    df = df[df['type'] != 8] # 혹시 모를 DontCare 제외\n",
    "    # df = df[(df['occluded'] == 1) | (df['occluded'] == 2)]\n",
    "    df['ob_width'] = df['bbox_r'] - df['bbox_l']\n",
    "    df['ob_height'] = df['bbox_b'] - df['bbox_t']\n",
    "    df['x_center'] = df['ob_width'] / 2 + df['bbox_l']\n",
    "    df['y_center'] = df['ob_height'] / 2 + df['bbox_t']\n",
    "    df['norm_x_center'] = df['x_center'] / width\n",
    "    df['norm_y_center'] = df['y_center'] / height\n",
    "    df['norm_ob_width'] = df['ob_width'] / width\n",
    "    df['norm_ob_height'] = df['ob_height'] / height\n",
    "\n",
    "    df_to_save = df.loc[:, ['type', 'norm_x_center', 'norm_y_center', 'norm_ob_width', 'norm_ob_height']]\n",
    "    df_to_save.to_csv(os.path.join(to_path, img_id + '.txt'), sep=' ', index=False, header=False)"
   ]
  },
  {
   "cell_type": "code",
   "execution_count": 61,
   "id": "68bff91d",
   "metadata": {},
   "outputs": [
    {
     "name": "stdout",
     "output_type": "stream",
     "text": [
      "0 0.1241748366013072 0.7708513513513514 0.2483496732026144 0.4528918918918919\n",
      "0 0.0620874183006536 0.7708513513513514 0.1241748366013072 0.4528918918918919\n",
      "0 0.1862622549019608 0.7708513513513514 0.1241748366013072 0.4528918918918919\n",
      "0 0.1241748366013072 0.8840743243243243 0.2483496732026144 0.22644594594594586\n",
      "0 0.1241748366013072 0.6576283783783784 0.2483496732026144 0.22644594594594603\n",
      "3 0.8257230392156863 0.4928243243243243 0.03100490196078435 0.1891621621621622\n",
      "0 0.3739705882352941 0.504 0.030016339869281053 0.07735135135135136\n",
      "0 0.36646650326797386 0.504 0.015008169934640526 0.07735135135135136\n",
      "0 0.3814746732026144 0.504 0.015008169934640526 0.07735135135135136\n",
      "0 0.3739705882352941 0.5233378378378378 0.030016339869281053 0.03867567567567568\n",
      "0 0.3739705882352941 0.4846621621621621 0.030016339869281053 0.03867567567567568\n",
      "6 0.3124632352941177 0.5052162162162163 0.019142156862745105 0.0918918918918919\n",
      "\n"
     ]
    }
   ],
   "source": [
    "# YOLOv5 포맷 변경된 거 확인\n",
    "with open(os.path.join(try_path, '002000.txt'), 'r') as f:\n",
    "    print(f.read())"
   ]
  },
  {
   "cell_type": "markdown",
   "id": "a0b00f70",
   "metadata": {},
   "source": [
    "### label -> Set 2번 포맷\n",
    "- DontCare 삭제\n",
    "- 'Car', 'Truck', 'Van' 세 개의 클래스에서 `Occluded '0', '1', '2', '3'` 전부 삭제\n",
    "- 'Car', 'Truck', 'Van' 세 개의 클래스에서 `Occluded '0'`인 건 horizontally, vertically 50%인 것 총 4개 추가하기"
   ]
  },
  {
   "cell_type": "code",
   "execution_count": 62,
   "id": "911a8d7b",
   "metadata": {},
   "outputs": [
    {
     "data": {
      "text/plain": [
       "'/Users/Jinmi/Desktop/label_set2'"
      ]
     },
     "execution_count": 62,
     "metadata": {},
     "output_type": "execute_result"
    }
   ],
   "source": [
    "desktop = '/Users/Jinmi/Desktop'\n",
    "os.chdir(desktop)\n",
    "\n",
    "folder_name = 'label_set2'\n",
    "if not os.path.exists(folder_name):\n",
    "    os.mkdir(folder_name)\n",
    "\n",
    "os.chdir(os.path.join(desktop, folder_name))\n",
    "os.getcwd()"
   ]
  },
  {
   "cell_type": "code",
   "execution_count": 63,
   "id": "7ff9545c",
   "metadata": {},
   "outputs": [
    {
     "name": "stdout",
     "output_type": "stream",
     "text": [
      "CPU times: user 918 ms, sys: 1.53 s, total: 2.45 s\n",
      "Wall time: 3.72 s\n"
     ]
    }
   ],
   "source": [
    "%%time\n",
    "to_path = os.path.join(desktop, folder_name)\n",
    "for txt in original_dir_list[1000:6000]:\n",
    "    with open(os.path.join(original_dir, txt), 'r') as fr:\n",
    "        lines = []\n",
    "        for line in fr:\n",
    "            word_list = line.split()\n",
    "            \n",
    "            # DontCare 제외\n",
    "            if word_list[0] == 'DontCare':\n",
    "                continue\n",
    "\n",
    "            # Occlusion 0인 'Car', 'Van', 'Truck'은 bbox 4개 라벨 추가하기\n",
    "            if (word_list[2] == '0') and ((word_list[0] == 'Car') or (word_list[0] == 'Van') or (word_list[0] == 'Truck')):\n",
    "                half_x = str((float(word_list[6]) + float(word_list[4])) / 2)\n",
    "                half_y = str((float(word_list[7]) + float(word_list[5])) / 2)\n",
    "                additional_1 = [word_list[0], word_list[1], '4', word_list[3], word_list[4], word_list[5], half_x, word_list[7], \n",
    "                            word_list[8], word_list[9], word_list[10], word_list[11], word_list[12], word_list[13], word_list[14]]\n",
    "                additional_2 = [word_list[0], word_list[1], '4', word_list[3], half_x, word_list[5], word_list[6], word_list[7], \n",
    "                            word_list[8], word_list[9], word_list[10], word_list[11], word_list[12], word_list[13], word_list[14]]\n",
    "                additional_3 = [word_list[0], word_list[1], '4', word_list[3], word_list[4], half_y, word_list[6], word_list[7], \n",
    "                            word_list[8], word_list[9], word_list[10], word_list[11], word_list[12], word_list[13], word_list[14]]\n",
    "                additional_4 = [word_list[0], word_list[1], '4', word_list[3], word_list[4], word_list[5], word_list[6], half_y, \n",
    "                            word_list[8], word_list[9], word_list[10], word_list[11], word_list[12], word_list[13], word_list[14]]  \n",
    "\n",
    "                lines.append(' '.join(additional_1)+'\\n')\n",
    "                lines.append(' '.join(additional_2)+'\\n')\n",
    "                lines.append(' '.join(additional_3)+'\\n')\n",
    "                lines.append(' '.join(additional_4)+'\\n')\n",
    "\n",
    "            # 세 개의 클래스 중 하나인 것들 원래 라벨은 전부 제외하기    \n",
    "            if (word_list[0] == 'Car') or (word_list[0] == 'Van') or (word_list[0] == 'Truck'):\n",
    "                continue\n",
    "            \n",
    "            # 나머지면 추가\n",
    "            lines.append(line)\n",
    "            \n",
    "            \n",
    "        with open(os.path.join(to_path, txt), 'w') as fw:\n",
    "            fw.writelines(lines)       "
   ]
  },
  {
   "cell_type": "code",
   "execution_count": 66,
   "id": "f1a913ee",
   "metadata": {},
   "outputs": [
    {
     "name": "stdout",
     "output_type": "stream",
     "text": [
      "Car 0.96 0 -0.86 0.00 201.43 303.98 369.00 1.50 1.78 3.69 -3.16 1.68 3.35 -1.56\n",
      "Cyclist 0.00 1 -1.60 991.71 147.35 1029.66 217.34 1.72 0.78 1.71 10.47 0.90 18.34 -1.08\n",
      "Car 0.00 1 -0.48 956.95 156.33 1124.69 205.06 1.51 1.75 4.45 14.38 0.76 23.55 0.06\n",
      "Car 0.00 0 1.50 439.37 172.17 476.11 200.79 1.44 1.64 3.68 -7.94 1.02 37.94 1.29\n",
      "Misc 0.00 0 1.76 370.74 169.93 394.17 203.93 1.87 0.86 2.12 -12.61 1.29 40.13 1.46\n",
      "Car 0.00 1 1.92 224.79 176.21 310.48 218.48 1.63 1.78 4.54 -14.14 1.46 29.92 1.49\n",
      "DontCare -1 -1 -10 874.10 153.15 911.13 194.29 -1 -1 -1 -1000 -1000 -1000 -10\n",
      "DontCare -1 -1 -10 621.70 163.74 632.35 175.85 -1 -1 -1 -1000 -1000 -1000 -10\n",
      "\n",
      "Car 0.96 4 -0.86 0.00 201.43 151.99 369.00 1.50 1.78 3.69 -3.16 1.68 3.35 -1.56\n",
      "Car 0.96 4 -0.86 151.99 201.43 303.98 369.00 1.50 1.78 3.69 -3.16 1.68 3.35 -1.56\n",
      "Car 0.96 4 -0.86 0.00 285.21500000000003 303.98 369.00 1.50 1.78 3.69 -3.16 1.68 3.35 -1.56\n",
      "Car 0.96 4 -0.86 0.00 201.43 303.98 285.21500000000003 1.50 1.78 3.69 -3.16 1.68 3.35 -1.56\n",
      "Cyclist 0.00 1 -1.60 991.71 147.35 1029.66 217.34 1.72 0.78 1.71 10.47 0.90 18.34 -1.08\n",
      "Car 0.00 4 1.50 439.37 172.17 457.74 200.79 1.44 1.64 3.68 -7.94 1.02 37.94 1.29\n",
      "Car 0.00 4 1.50 457.74 172.17 476.11 200.79 1.44 1.64 3.68 -7.94 1.02 37.94 1.29\n",
      "Car 0.00 4 1.50 439.37 186.48 476.11 200.79 1.44 1.64 3.68 -7.94 1.02 37.94 1.29\n",
      "Car 0.00 4 1.50 439.37 172.17 476.11 186.48 1.44 1.64 3.68 -7.94 1.02 37.94 1.29\n",
      "Misc 0.00 0 1.76 370.74 169.93 394.17 203.93 1.87 0.86 2.12 -12.61 1.29 40.13 1.46\n",
      "\n",
      "\n",
      "==========\n",
      "\n",
      "Truck 0.00 0 -1.58 594.54 162.27 626.16 196.51 2.85 2.63 12.34 -0.01 2.04 66.88 -1.58\n",
      "Car 0.00 0 1.83 407.03 187.00 446.09 210.93 1.63 1.78 4.13 -13.43 2.70 52.95 1.58\n",
      "Cyclist 0.00 3 -1.69 702.26 165.62 722.51 210.27 1.86 0.60 2.02 4.37 1.57 31.11 -1.55\n",
      "DontCare -1 -1 -10 50.93 224.52 70.63 232.58 -1 -1 -1 -1000 -1000 -1000 -10\n",
      "DontCare -1 -1 -10 479.80 182.47 500.79 197.00 -1 -1 -1 -1000 -1000 -1000 -10\n",
      "DontCare -1 -1 -10 533.50 180.53 586.84 190.53 -1 -1 -1 -1000 -1000 -1000 -10\n",
      "\n",
      "Truck 0.00 4 -1.58 594.54 162.27 610.3499999999999 196.51 2.85 2.63 12.34 -0.01 2.04 66.88 -1.58\n",
      "Truck 0.00 4 -1.58 610.3499999999999 162.27 626.16 196.51 2.85 2.63 12.34 -0.01 2.04 66.88 -1.58\n",
      "Truck 0.00 4 -1.58 594.54 179.39 626.16 196.51 2.85 2.63 12.34 -0.01 2.04 66.88 -1.58\n",
      "Truck 0.00 4 -1.58 594.54 162.27 626.16 179.39 2.85 2.63 12.34 -0.01 2.04 66.88 -1.58\n",
      "Car 0.00 4 1.83 407.03 187.00 426.55999999999995 210.93 1.63 1.78 4.13 -13.43 2.70 52.95 1.58\n",
      "Car 0.00 4 1.83 426.55999999999995 187.00 446.09 210.93 1.63 1.78 4.13 -13.43 2.70 52.95 1.58\n",
      "Car 0.00 4 1.83 407.03 198.965 446.09 210.93 1.63 1.78 4.13 -13.43 2.70 52.95 1.58\n",
      "Car 0.00 4 1.83 407.03 187.00 446.09 198.965 1.63 1.78 4.13 -13.43 2.70 52.95 1.58\n",
      "Cyclist 0.00 3 -1.69 702.26 165.62 722.51 210.27 1.86 0.60 2.02 4.37 1.57 31.11 -1.55\n",
      "\n"
     ]
    }
   ],
   "source": [
    "# 변경된 라벨 확인\n",
    "with open(os.path.join(original_dir, original_dir_list[2000]), 'r') as f:\n",
    "    print(f.read())\n",
    "\n",
    "with open(os.path.join(to_path, original_dir_list[2000]), 'r') as f:\n",
    "    print(f.read())\n",
    "    \n",
    "print()\n",
    "print('==========')\n",
    "print()\n",
    "\n",
    "with open(os.path.join(original_dir, original_dir_list[3000]), 'r') as f:\n",
    "    print(f.read())\n",
    "\n",
    "with open(os.path.join(to_path, original_dir_list[3000]), 'r') as f:\n",
    "    print(f.read())\n"
   ]
  },
  {
   "cell_type": "markdown",
   "id": "629a7921",
   "metadata": {},
   "source": [
    "### YOLOv5 라벨로 바꿔주기"
   ]
  },
  {
   "cell_type": "code",
   "execution_count": 67,
   "id": "297e6d5e",
   "metadata": {},
   "outputs": [],
   "source": [
    "try_path = '/Users/Jinmi/Desktop/yolo_labels_set2'\n",
    "if not os.path.exists(try_path):\n",
    "    os.mkdir(try_path)"
   ]
  },
  {
   "cell_type": "code",
   "execution_count": 68,
   "id": "503b4372",
   "metadata": {},
   "outputs": [],
   "source": [
    "import cv2\n",
    "import pandas as pd\n",
    "\n",
    "# 클래스 값을 숫자로 변환해주는 매핑 함수\n",
    "def label_mapping(string):\n",
    "    map_dict = {'Car' : 0,\n",
    "                'Pedestrian' : 1,\n",
    "                'Truck' : 2,\n",
    "                'Cyclist' : 3,\n",
    "                'Van' : 4,\n",
    "                'Tram' : 5,\n",
    "                'Misc' : 6,\n",
    "                'Person_sitting' : 7,\n",
    "                'DontCare' : 8,\n",
    "                }\n",
    "    return map_dict[string]\n",
    "\n",
    "raw_label_root_path = '/Users/Jinmi/Desktop/label_set2'\n",
    "raw_img_root_path = '/Users/Jinmi/Desktop/images/training/image_2'\n",
    "label_filenames = os.listdir(raw_label_root_path)\n",
    "to_path = try_path\n",
    "\n",
    "# 라벨 새로 저장할 경로 생성\n",
    "if not os.path.exists(to_path):\n",
    "    os.mkdir(to_path)\n",
    "\n",
    "# 변환 시 직관적으로 알 수 있게끔 해줄 판다스 데이터프레임 헤더 리스트\n",
    "columns = ['type', 'truncated', 'occluded', 'alpha', 'bbox_l', 'bbox_t', 'bbox_r', 'bbox_b', '3d_h', '3d_w', '3d_l', '3d_x', '3d_y', '3d_z', '3d_rot_y', 'score']\n",
    "\n",
    "# 이미지 경로 전체 돌면서 매칭되는 기존 라벨값 불러온 후 변환 및 다른 경로에 저장\n",
    "for filename in label_filenames:\n",
    "    lab_path = os.path.join(raw_label_root_path, filename)\n",
    "    img_path = os.path.join(raw_img_root_path, filename[:6]+'.png')\n",
    "    img = cv2.imread(img_path, cv2.IMREAD_COLOR)\n",
    "    height = img.shape[0]\n",
    "    width = img.shape[1]\n",
    "    img_id = img_path[-10:-4] # 이미지 넘버\n",
    "    df = pd.read_csv(lab_path, sep=' ', names=columns)\n",
    "\n",
    "    df['type'] = df['type'].map(label_mapping)\n",
    "#     df = df[df['type'] != 8] # 혹시 모를 DontCare 제외\n",
    "    # df = df[(df['occluded'] == 1) | (df['occluded'] == 2)]\n",
    "    df['ob_width'] = df['bbox_r'] - df['bbox_l']\n",
    "    df['ob_height'] = df['bbox_b'] - df['bbox_t']\n",
    "    df['x_center'] = df['ob_width'] / 2 + df['bbox_l']\n",
    "    df['y_center'] = df['ob_height'] / 2 + df['bbox_t']\n",
    "    df['norm_x_center'] = df['x_center'] / width\n",
    "    df['norm_y_center'] = df['y_center'] / height\n",
    "    df['norm_ob_width'] = df['ob_width'] / width\n",
    "    df['norm_ob_height'] = df['ob_height'] / height\n",
    "\n",
    "    df_to_save = df.loc[:, ['type', 'norm_x_center', 'norm_y_center', 'norm_ob_width', 'norm_ob_height']]\n",
    "    df_to_save.to_csv(os.path.join(to_path, img_id + '.txt'), sep=' ', index=False, header=False)"
   ]
  },
  {
   "cell_type": "code",
   "execution_count": 69,
   "id": "a1ed5dc3",
   "metadata": {},
   "outputs": [
    {
     "name": "stdout",
     "output_type": "stream",
     "text": [
      "0 0.0620874183006536 0.7708513513513514 0.1241748366013072 0.4528918918918919\n",
      "0 0.1862622549019608 0.7708513513513514 0.1241748366013072 0.4528918918918919\n",
      "0 0.1241748366013072 0.8840743243243243 0.2483496732026144 0.22644594594594586\n",
      "0 0.1241748366013072 0.6576283783783784 0.2483496732026144 0.22644594594594603\n",
      "3 0.8257230392156863 0.4928243243243243 0.03100490196078435 0.1891621621621622\n",
      "0 0.36646650326797386 0.504 0.015008169934640526 0.07735135135135136\n",
      "0 0.3814746732026144 0.504 0.015008169934640526 0.07735135135135136\n",
      "0 0.3739705882352941 0.5233378378378378 0.030016339869281053 0.03867567567567568\n",
      "0 0.3739705882352941 0.4846621621621621 0.030016339869281053 0.03867567567567568\n",
      "6 0.3124632352941177 0.5052162162162163 0.019142156862745105 0.0918918918918919\n",
      "\n"
     ]
    }
   ],
   "source": [
    "# YOLOv5 포맷 변경된 거 확인\n",
    "with open(os.path.join(try_path, '002000.txt'), 'r') as f:\n",
    "    print(f.read())"
   ]
  },
  {
   "cell_type": "markdown",
   "id": "128572f9",
   "metadata": {},
   "source": [
    "### label -> Set 3번 포맷\n",
    "- DontCare 삭제\n",
    "- 'Car', 'Truck', 'Van' 세 개의 클래스에서 `Occluded '0', '1', '2', '3'` 전부 삭제\n",
    "- 'Car', 'Truck', 'Van' 세 개의 클래스에서 `Occluded '0'`인 건 horizontally, vertically 25%인 것 총 4개 추가하기"
   ]
  },
  {
   "cell_type": "code",
   "execution_count": 70,
   "id": "f68ee9df",
   "metadata": {},
   "outputs": [
    {
     "data": {
      "text/plain": [
       "'/Users/Jinmi/Desktop/label_set3'"
      ]
     },
     "execution_count": 70,
     "metadata": {},
     "output_type": "execute_result"
    }
   ],
   "source": [
    "desktop = '/Users/Jinmi/Desktop'\n",
    "os.chdir(desktop)\n",
    "\n",
    "folder_name = 'label_set3'\n",
    "if not os.path.exists(folder_name):\n",
    "    os.mkdir(folder_name)\n",
    "\n",
    "os.chdir(os.path.join(desktop, folder_name))\n",
    "os.getcwd()"
   ]
  },
  {
   "cell_type": "markdown",
   "id": "25c939b8",
   "metadata": {},
   "source": [
    "_실험 중단으로 해당 라벨은 생성하지 않음_"
   ]
  }
 ],
 "metadata": {
  "kernelspec": {
   "display_name": "Python 3 (ipykernel)",
   "language": "python",
   "name": "python3"
  },
  "language_info": {
   "codemirror_mode": {
    "name": "ipython",
    "version": 3
   },
   "file_extension": ".py",
   "mimetype": "text/x-python",
   "name": "python",
   "nbconvert_exporter": "python",
   "pygments_lexer": "ipython3",
   "version": "3.9.7"
  }
 },
 "nbformat": 4,
 "nbformat_minor": 5
}
