{
 "cells": [
  {
   "cell_type": "markdown",
   "id": "e1663595",
   "metadata": {},
   "source": [
    "## KITTI 데이터 라벨에서 필요한 것만 뽑아내고 YOLOv5 포맷으로 변경하기"
   ]
  },
  {
   "cell_type": "markdown",
   "id": "ca4fab55",
   "metadata": {},
   "source": [
    "### 1) label - Dontcare 없애기"
   ]
  },
  {
   "cell_type": "code",
   "execution_count": 1,
   "id": "3d792c36",
   "metadata": {},
   "outputs": [],
   "source": [
    "import os"
   ]
  },
  {
   "cell_type": "code",
   "execution_count": 2,
   "id": "0ac7f232",
   "metadata": {},
   "outputs": [
    {
     "data": {
      "text/plain": [
       "'/Users/Jinmi/Desktop'"
      ]
     },
     "execution_count": 2,
     "metadata": {},
     "output_type": "execute_result"
    }
   ],
   "source": [
    "os.getcwd()"
   ]
  },
  {
   "cell_type": "code",
   "execution_count": 3,
   "id": "23c64dd2",
   "metadata": {},
   "outputs": [],
   "source": [
    "# 기존 라벨 디렉토리\n",
    "original_dir = '/Users/Jinmi/Desktop/label_2'"
   ]
  },
  {
   "cell_type": "code",
   "execution_count": 4,
   "id": "ad420605",
   "metadata": {},
   "outputs": [],
   "source": [
    "original_dir_list = os.listdir(original_dir)"
   ]
  },
  {
   "cell_type": "code",
   "execution_count": 5,
   "id": "25f07b34",
   "metadata": {},
   "outputs": [
    {
     "data": {
      "text/plain": [
       "7481"
      ]
     },
     "execution_count": 5,
     "metadata": {},
     "output_type": "execute_result"
    }
   ],
   "source": [
    "len(original_dir_list)"
   ]
  },
  {
   "cell_type": "code",
   "execution_count": 6,
   "id": "4979a7f5",
   "metadata": {},
   "outputs": [
    {
     "data": {
      "text/plain": [
       "'/Users/Jinmi/Desktop/label_2_v1(without_dontcare)'"
      ]
     },
     "execution_count": 6,
     "metadata": {},
     "output_type": "execute_result"
    }
   ],
   "source": [
    "# 추려낸 라벨 저장할 폴더 생성\n",
    "folder_name = 'label_2_v1(without_dontcare)'\n",
    "if not os.path.exists(folder_name):\n",
    "    os.mkdir(folder_name)\n",
    "\n",
    "desktop = '/Users/Jinmi/Desktop'\n",
    "os.chdir(os.path.join(desktop, folder_name))\n",
    "os.getcwd()"
   ]
  },
  {
   "cell_type": "code",
   "execution_count": 8,
   "id": "4a8caea9",
   "metadata": {},
   "outputs": [
    {
     "name": "stdout",
     "output_type": "stream",
     "text": [
      "Car 0.00 0 -1.58 595.09 177.15 637.82 217.56 1.56 1.65 3.69 0.21 1.75 29.98 -1.58\n",
      "Car 0.18 0 2.19 0.00 185.06 198.62 277.08 1.56 1.70 4.41 -10.57 1.84 14.76 1.57\n",
      "Car 0.00 0 -1.16 812.56 169.04 1023.51 293.58 1.53 1.57 3.54 4.59 1.49 10.63 -0.76\n",
      "Car 0.00 1 -1.05 764.98 172.70 947.97 261.04 1.50 1.64 3.99 4.89 1.51 14.18 -0.73\n",
      "Car 0.00 1 -1.08 708.54 177.97 852.27 243.88 1.40 1.65 4.18 4.24 1.55 17.70 -0.85\n",
      "Car 0.00 1 -1.02 688.87 171.19 810.95 231.62 1.59 1.65 3.94 4.11 1.56 21.00 -0.83\n",
      "Car 0.00 2 -0.96 683.58 175.03 795.67 222.45 1.48 1.73 4.06 4.45 1.57 24.64 -0.78\n",
      "Car 0.00 2 -0.85 671.67 172.74 771.02 217.39 1.63 1.61 3.96 4.37 1.64 28.24 -0.70\n",
      "Car 0.00 0 1.69 527.40 180.19 548.84 196.17 1.38 1.47 3.62 -6.45 2.05 64.87 1.60\n",
      "Car 0.00 2 -0.86 643.30 175.11 696.46 195.05 1.40 1.63 4.05 4.40 1.58 52.87 -0.78\n",
      "Van 0.00 2 -0.90 635.67 171.26 682.21 192.14 1.88 1.82 4.64 4.59 1.75 67.31 -0.83\n",
      "Car 0.00 0 1.74 492.21 177.06 516.24 194.15 1.67 1.68 4.49 -10.73 2.11 73.40 1.59\n",
      "DontCare -1 -1 -10 466.85 178.15 483.56 189.65 -1 -1 -1 -1000 -1000 -1000 -10\n",
      "DontCare -1 -1 -10 547.06 176.06 578.35 188.60 -1 -1 -1 -1000 -1000 -1000 -10\n",
      "\n"
     ]
    }
   ],
   "source": [
    "# 기존 라벨 디렉토리에서 샘플 열어서 확인\n",
    "with open(os.path.join(original_dir, original_dir_list[0]), 'r') as f:\n",
    "    print(f.read())"
   ]
  },
  {
   "cell_type": "markdown",
   "id": "f1827133",
   "metadata": {},
   "source": [
    "#### DontCare 클래스만 제외하기 실행"
   ]
  },
  {
   "cell_type": "code",
   "execution_count": 14,
   "id": "c670fe84",
   "metadata": {},
   "outputs": [
    {
     "name": "stdout",
     "output_type": "stream",
     "text": [
      "CPU times: user 1.09 s, sys: 2.59 s, total: 3.68 s\n",
      "Wall time: 7.09 s\n"
     ]
    }
   ],
   "source": [
    "%%time\n",
    "to_path = os.path.join(desktop, folder_name)\n",
    "for txt in original_dir_list:\n",
    "    with open(os.path.join(original_dir, txt), 'r') as fr:\n",
    "        lines = []\n",
    "        for line in fr:\n",
    "            if line[:8] != 'DontCare':\n",
    "                lines.append(line)\n",
    "        with open(os.path.join(to_path, txt), 'w') as fw:\n",
    "            fw.writelines(lines)       "
   ]
  },
  {
   "cell_type": "code",
   "execution_count": 15,
   "id": "62543c4d",
   "metadata": {},
   "outputs": [
    {
     "data": {
      "text/plain": [
       "'/Users/Jinmi/Desktop/label_2_v1(without_dontcare)'"
      ]
     },
     "execution_count": 15,
     "metadata": {},
     "output_type": "execute_result"
    }
   ],
   "source": [
    "to_path"
   ]
  },
  {
   "cell_type": "code",
   "execution_count": 16,
   "id": "b3a0efc6",
   "metadata": {},
   "outputs": [
    {
     "data": {
      "text/plain": [
       "7481"
      ]
     },
     "execution_count": 16,
     "metadata": {},
     "output_type": "execute_result"
    }
   ],
   "source": [
    "# 라벨 전부 다 실행됐는지 확인\n",
    "len(os.listdir(to_path))"
   ]
  },
  {
   "cell_type": "code",
   "execution_count": 17,
   "id": "265be36e",
   "metadata": {},
   "outputs": [
    {
     "name": "stdout",
     "output_type": "stream",
     "text": [
      "Car 0.00 0 -1.58 595.09 177.15 637.82 217.56 1.56 1.65 3.69 0.21 1.75 29.98 -1.58\n",
      "Car 0.18 0 2.19 0.00 185.06 198.62 277.08 1.56 1.70 4.41 -10.57 1.84 14.76 1.57\n",
      "Car 0.00 0 -1.16 812.56 169.04 1023.51 293.58 1.53 1.57 3.54 4.59 1.49 10.63 -0.76\n",
      "Car 0.00 1 -1.05 764.98 172.70 947.97 261.04 1.50 1.64 3.99 4.89 1.51 14.18 -0.73\n",
      "Car 0.00 1 -1.08 708.54 177.97 852.27 243.88 1.40 1.65 4.18 4.24 1.55 17.70 -0.85\n",
      "Car 0.00 1 -1.02 688.87 171.19 810.95 231.62 1.59 1.65 3.94 4.11 1.56 21.00 -0.83\n",
      "Car 0.00 2 -0.96 683.58 175.03 795.67 222.45 1.48 1.73 4.06 4.45 1.57 24.64 -0.78\n",
      "Car 0.00 2 -0.85 671.67 172.74 771.02 217.39 1.63 1.61 3.96 4.37 1.64 28.24 -0.70\n",
      "Car 0.00 0 1.69 527.40 180.19 548.84 196.17 1.38 1.47 3.62 -6.45 2.05 64.87 1.60\n",
      "Car 0.00 2 -0.86 643.30 175.11 696.46 195.05 1.40 1.63 4.05 4.40 1.58 52.87 -0.78\n",
      "Van 0.00 2 -0.90 635.67 171.26 682.21 192.14 1.88 1.82 4.64 4.59 1.75 67.31 -0.83\n",
      "Car 0.00 0 1.74 492.21 177.06 516.24 194.15 1.67 1.68 4.49 -10.73 2.11 73.40 1.59\n",
      "\n"
     ]
    }
   ],
   "source": [
    "# 위의 기존 라벨과 비교\n",
    "with open(os.path.join(to_path, original_dir_list[0]), 'r') as f:\n",
    "    print(f.read())"
   ]
  },
  {
   "cell_type": "markdown",
   "id": "a27bb8c9",
   "metadata": {},
   "source": [
    "### 2) label(DontCare 없앤 버전) -> class 숫자로 변환 및 YOLOv5 포맷으로 변경"
   ]
  },
  {
   "cell_type": "markdown",
   "id": "6ebe4844",
   "metadata": {},
   "source": [
    "##### 원본 이미지 다운로드"
   ]
  },
  {
   "cell_type": "code",
   "execution_count": 21,
   "id": "df30ecfd",
   "metadata": {},
   "outputs": [
    {
     "data": {
      "text/plain": [
       "'/Users/Jinmi/Desktop'"
      ]
     },
     "execution_count": 21,
     "metadata": {},
     "output_type": "execute_result"
    }
   ],
   "source": [
    "os.chdir(desktop)\n",
    "os.getcwd()"
   ]
  },
  {
   "cell_type": "code",
   "execution_count": 23,
   "id": "9a6fdeed",
   "metadata": {},
   "outputs": [
    {
     "name": "stdout",
     "output_type": "stream",
     "text": [
      "Collecting wget\n",
      "  Using cached wget-3.2.zip (10 kB)\n",
      "  Preparing metadata (setup.py) ... \u001b[?25ldone\n",
      "\u001b[?25hBuilding wheels for collected packages: wget\n",
      "  Building wheel for wget (setup.py) ... \u001b[?25ldone\n",
      "\u001b[?25h  Created wheel for wget: filename=wget-3.2-py3-none-any.whl size=9672 sha256=eb2568f189d639d5147a86eaea286bec10466d8a3ff412790017df54c56f814b\n",
      "  Stored in directory: /Users/Jinmi/Library/Caches/pip/wheels/04/5f/3e/46cc37c5d698415694d83f607f833f83f0149e49b3af9d0f38\n",
      "Successfully built wget\n",
      "Installing collected packages: wget\n",
      "Successfully installed wget-3.2\n",
      "\u001b[33mWARNING: You are using pip version 22.0.4; however, version 22.1 is available.\n",
      "You should consider upgrading via the '/Users/Jinmi/opt/anaconda3/bin/python -m pip install --upgrade pip' command.\u001b[0m\u001b[33m\n",
      "\u001b[0m"
     ]
    }
   ],
   "source": [
    "!pip install wget"
   ]
  },
  {
   "cell_type": "code",
   "execution_count": 25,
   "id": "24316b55",
   "metadata": {},
   "outputs": [
    {
     "name": "stdout",
     "output_type": "stream",
     "text": [
      "Running `brew update --preinstall`...\n",
      "\u001b[34m==>\u001b[0m \u001b[1mHomebrew is run entirely by unpaid volunteers. Please consider donating:\u001b[0m\n",
      "  \u001b[4mhttps://github.com/Homebrew/brew#donations\u001b[24m\n",
      "\u001b[34m==>\u001b[0m \u001b[1mAuto-updated Homebrew!\u001b[0m\n",
      "Updated 1 tap (homebrew/core).\n",
      "\u001b[34m==>\u001b[0m \u001b[1mNew Formulae\u001b[0m\n",
      "acl                        httpyac                    observerward\n",
      "age-plugin-yubikey         hut                        octosql\n",
      "ansible-language-server    ifacemaker                 opendht\n",
      "arxiv_latex_cleaner        imposm3                    openjdk@17\n",
      "autocannon                 inih                       postgraphile\n",
      "aws-auth                   jdtls                      powerman-dockerize\n",
      "bartib                     kmod                       primecount\n",
      "bvm                        koka                       quran\n",
      "cloudflare-quiche          kubekey                    release-it\n",
      "compiledb                  libabw                     rslint\n",
      "cpi                        libapplewm                 sdl2_sound\n",
      "criterion                  libcython                  sftpgo\n",
      "dagger                     libmarpa                   shadowsocks-rust\n",
      "dbml-cli                   libtpms                    sophus\n",
      "ddcutil                    libxcrypt                  spidermonkey@78\n",
      "ddh                        libxcvt                    spirv-headers\n",
      "difftastic                 libxfont2                  sqls\n",
      "dotdrop                    lndir                      sse2neon\n",
      "easeprobe                  localtunnel                stanc3\n",
      "ecflow-ui                  ltex-ls                    stylish-haskell\n",
      "epinio                     mapproxy                   testkube\n",
      "fclones                    mariadb@10.6               tradcpp\n",
      "flyctl                     mbt                        trivy\n",
      "fortran-language-server    mbw                        tygo\n",
      "fourmolu                   melody                     ugit\n",
      "freebayes                  micro_inetd                vcluster\n",
      "gemgen                     minimap2                   virt-manager\n",
      "gi-docgen                  mkfontscale                vsce\n",
      "glibc@2.13                 mongodb-atlas-cli          wasm-tools\n",
      "go@1.17                    monika                     wb32-dfu-updater_cli\n",
      "goctl                      mu-repo                    werf\n",
      "gops                       nickel                     xcode-kotlin\n",
      "highs                      nvchecker                  xkbcomp\n",
      "\u001b[34m==>\u001b[0m \u001b[1mUpdated Formulae\u001b[0m\n",
      "Updated 2624 formulae.\n",
      "\u001b[34m==>\u001b[0m \u001b[1mRenamed Formulae\u001b[0m\n",
      "richmd -> rich-cli\n",
      "\u001b[34m==>\u001b[0m \u001b[1mDeleted Formulae\u001b[0m\n",
      "autopano-sift-c     griffon             komposition         szip\n",
      "boost-python        gstreamermm         mozilla-addon-sdk\n",
      "\n",
      "\u001b[34m==>\u001b[0m \u001b[1mDownloading https://ghcr.io/v2/homebrew/core/gettext/manifests/0.21\u001b[0m\n",
      "######################################################################## 100.0%\n",
      "\u001b[34m==>\u001b[0m \u001b[1mDownloading https://ghcr.io/v2/homebrew/core/gettext/blobs/sha256:cdea54f52b\u001b[0m\n",
      "\u001b[34m==>\u001b[0m \u001b[1mDownloading from https://pkg-containers.githubusercontent.com/ghcr1/blobs/sh\u001b[0m\n",
      "######################################################################## 100.0%\n",
      "\u001b[34m==>\u001b[0m \u001b[1mDownloading https://ghcr.io/v2/homebrew/core/libunistring/manifests/1.0\u001b[0m\n",
      "######################################################################## 100.0%\n",
      "\u001b[34m==>\u001b[0m \u001b[1mDownloading https://ghcr.io/v2/homebrew/core/libunistring/blobs/sha256:3b5bb\u001b[0m\n",
      "\u001b[34m==>\u001b[0m \u001b[1mDownloading from https://pkg-containers.githubusercontent.com/ghcr1/blobs/sh\u001b[0m\n",
      "######################################################################## 100.0%\n",
      "\u001b[34m==>\u001b[0m \u001b[1mDownloading https://ghcr.io/v2/homebrew/core/libidn2/manifests/2.3.2\u001b[0m\n",
      "######################################################################## 100.0%\n",
      "\u001b[34m==>\u001b[0m \u001b[1mDownloading https://ghcr.io/v2/homebrew/core/libidn2/blobs/sha256:71c5f183ae\u001b[0m\n",
      "\u001b[34m==>\u001b[0m \u001b[1mDownloading from https://pkg-containers.githubusercontent.com/ghcr1/blobs/sh\u001b[0m\n",
      "######################################################################## 100.0%\n",
      "\u001b[34m==>\u001b[0m \u001b[1mDownloading https://ghcr.io/v2/homebrew/core/ca-certificates/manifests/2022-\u001b[0m\n",
      "######################################################################## 100.0%\n",
      "\u001b[34m==>\u001b[0m \u001b[1mDownloading https://ghcr.io/v2/homebrew/core/ca-certificates/blobs/sha256:c0\u001b[0m\n",
      "\u001b[34m==>\u001b[0m \u001b[1mDownloading from https://pkg-containers.githubusercontent.com/ghcr1/blobs/sh\u001b[0m\n",
      "######################################################################## 100.0%\n",
      "\u001b[34m==>\u001b[0m \u001b[1mDownloading https://ghcr.io/v2/homebrew/core/openssl/1.1/manifests/1.1.1o\u001b[0m\n",
      "######################################################################## 100.0%\n",
      "\u001b[34m==>\u001b[0m \u001b[1mDownloading https://ghcr.io/v2/homebrew/core/openssl/1.1/blobs/sha256:1da475\u001b[0m\n",
      "\u001b[34m==>\u001b[0m \u001b[1mDownloading from https://pkg-containers.githubusercontent.com/ghcr1/blobs/sh\u001b[0m\n",
      "######################################################################## 100.0%\n",
      "\u001b[34m==>\u001b[0m \u001b[1mDownloading https://ghcr.io/v2/homebrew/core/wget/manifests/1.21.3\u001b[0m\n",
      "######################################################################## 100.0%\n",
      "\u001b[34m==>\u001b[0m \u001b[1mDownloading https://ghcr.io/v2/homebrew/core/wget/blobs/sha256:2aadef5aae81e\u001b[0m\n",
      "\u001b[34m==>\u001b[0m \u001b[1mDownloading from https://pkg-containers.githubusercontent.com/ghcr1/blobs/sh\u001b[0m\n",
      "######################################################################## 100.0%\n",
      "\u001b[32m==>\u001b[0m \u001b[1mInstalling dependencies for wget: \u001b[32mgettext\u001b[39m, \u001b[32mlibunistring\u001b[39m, \u001b[32mlibidn2\u001b[39m, \u001b[32mca-certificates\u001b[39m and \u001b[32mopenssl@1.1\u001b[39m\u001b[0m\n",
      "\u001b[32m==>\u001b[0m \u001b[1mInstalling wget dependency: \u001b[32mgettext\u001b[39m\u001b[0m\n",
      "\u001b[34m==>\u001b[0m \u001b[1mPouring gettext--0.21.catalina.bottle.tar.gz\u001b[0m\n",
      "🍺  /usr/local/Cellar/gettext/0.21: 1,953 files, 19.0MB\n",
      "\u001b[32m==>\u001b[0m \u001b[1mInstalling wget dependency: \u001b[32mlibunistring\u001b[39m\u001b[0m\n",
      "\u001b[34m==>\u001b[0m \u001b[1mPouring libunistring--1.0.catalina.bottle.tar.gz\u001b[0m\n",
      "🍺  /usr/local/Cellar/libunistring/1.0: 56 files, 4.8MB\n",
      "\u001b[32m==>\u001b[0m \u001b[1mInstalling wget dependency: \u001b[32mlibidn2\u001b[39m\u001b[0m\n",
      "\u001b[34m==>\u001b[0m \u001b[1mPouring libidn2--2.3.2.catalina.bottle.tar.gz\u001b[0m\n",
      "🍺  /usr/local/Cellar/libidn2/2.3.2: 77 files, 846.5KB\n",
      "\u001b[32m==>\u001b[0m \u001b[1mInstalling wget dependency: \u001b[32mca-certificates\u001b[39m\u001b[0m\n",
      "\u001b[34m==>\u001b[0m \u001b[1mPouring ca-certificates--2022-04-26.all.bottle.tar.gz\u001b[0m\n",
      "\u001b[34m==>\u001b[0m \u001b[1mRegenerating CA certificate bundle from keychain, this may take a while...\u001b[0m\n",
      "🍺  /usr/local/Cellar/ca-certificates/2022-04-26: 3 files, 215.6KB\n",
      "\u001b[32m==>\u001b[0m \u001b[1mInstalling wget dependency: \u001b[32mopenssl@1.1\u001b[39m\u001b[0m\n",
      "\u001b[34m==>\u001b[0m \u001b[1mPouring openssl@1.1--1.1.1o.catalina.bottle.tar.gz\u001b[0m\n",
      "🍺  /usr/local/Cellar/openssl@1.1/1.1.1o: 8,089 files, 18.5MB\n",
      "\u001b[32m==>\u001b[0m \u001b[1mInstalling \u001b[32mwget\u001b[39m\u001b[0m\n",
      "\u001b[34m==>\u001b[0m \u001b[1mPouring wget--1.21.3.catalina.bottle.tar.gz\u001b[0m\n",
      "🍺  /usr/local/Cellar/wget/1.21.3: 89 files, 4.2MB\n",
      "\u001b[34m==>\u001b[0m \u001b[1m`brew cleanup` has not been run in the last 30 days, running now...\u001b[0m\n",
      "Disable this behaviour by setting HOMEBREW_NO_INSTALL_CLEANUP.\n",
      "Hide these hints with HOMEBREW_NO_ENV_HINTS (see `man brew`).\n",
      "Pruned 2 symbolic links and 8 directories from /usr/local\n"
     ]
    }
   ],
   "source": [
    "!brew install wget"
   ]
  },
  {
   "cell_type": "code",
   "execution_count": 26,
   "id": "6f8ff103",
   "metadata": {},
   "outputs": [
    {
     "name": "stdout",
     "output_type": "stream",
     "text": [
      "--2022-05-19 16:28:53--  https://s3.eu-central-1.amazonaws.com/avg-kitti/data_object_image_2.zip\n",
      "Resolving s3.eu-central-1.amazonaws.com (s3.eu-central-1.amazonaws.com)... 52.219.170.201\n",
      "Connecting to s3.eu-central-1.amazonaws.com (s3.eu-central-1.amazonaws.com)|52.219.170.201|:443... connected.\n",
      "HTTP request sent, awaiting response... 200 OK\n",
      "Length: 12569945557 (12G) [application/zip]\n",
      "Saving to: ‘data_object_image_2.zip’\n",
      "\n",
      "data_object_image_2 100%[===================>]  11.71G  1.36MB/s    in 2h 20m  \n",
      "\n",
      "2022-05-19 18:49:04 (1.43 MB/s) - ‘data_object_image_2.zip’ saved [12569945557/12569945557]\n",
      "\n"
     ]
    }
   ],
   "source": [
    "!wget https://s3.eu-central-1.amazonaws.com/avg-kitti/data_object_image_2.zip"
   ]
  },
  {
   "cell_type": "code",
   "execution_count": 19,
   "id": "1219fab4",
   "metadata": {},
   "outputs": [
    {
     "data": {
      "text/plain": [
       "'/Users/Jinmi/Desktop/label_2_v1.1(without_dontcare_and_class_convert)'"
      ]
     },
     "execution_count": 19,
     "metadata": {},
     "output_type": "execute_result"
    }
   ],
   "source": [
    "# yolov5 포맷으로 바꾼 라벨 저장할 폴더 이름\n",
    "folder_name = 'label_2_v1.1(without_dontcare_and_class_convert)'\n",
    "desktop = '/Users/Jinmi/Desktop'\n",
    "\n",
    "# 저장할 절대 경로\n",
    "dst_dir = os.path.join(desktop, folder_name)\n",
    "if not os.path.exists(dst_dir):\n",
    "    os.mkdir(dst_dir)\n",
    "\n",
    "os.chdir(dst_dir)\n",
    "os.getcwd()"
   ]
  },
  {
   "cell_type": "code",
   "execution_count": 27,
   "id": "2bf3f9e8",
   "metadata": {},
   "outputs": [
    {
     "name": "stdout",
     "output_type": "stream",
     "text": [
      "CPU times: user 2min 23s, sys: 12.1 s, total: 2min 35s\n",
      "Wall time: 3min 17s\n"
     ]
    }
   ],
   "source": [
    "%%time\n",
    "import cv2\n",
    "import pandas as pd\n",
    "\n",
    "# 클래스 값을 숫자로 변환해주는 매핑 함수\n",
    "def label_mapping(string):\n",
    "    map_dict = {'Car' : 0,\n",
    "                'Pedestrian' : 1,\n",
    "                'Truck' : 2,\n",
    "                'Cyclist' : 3,\n",
    "                'Van' : 4,\n",
    "                'Tram' : 5,\n",
    "                'Misc' : 6,\n",
    "                'Person_sitting' : 7,\n",
    "                'DontCare' : 8,\n",
    "                }\n",
    "    return map_dict[string]\n",
    "\n",
    "raw_label_root_path = '/Users/Jinmi/Desktop/label_2_v1(without_dontcare)'\n",
    "raw_img_root_path = '/Users/Jinmi/Desktop/kitti_images/training/image_2'\n",
    "to_path = dst_dir\n",
    "\n",
    "# 라벨 새로 저장할 root 경로\n",
    "if not os.path.exists(to_path):\n",
    "    os.mkdir(to_path)\n",
    "\n",
    "\n",
    "# 변환 시 직관적으로 알 수 있게끔 해줄 판다스 데이터프레임 헤더 리스트\n",
    "columns = ['type', 'truncated', 'occluded', 'alpha', 'bbox_l', 'bbox_t', 'bbox_r', 'bbox_b', '3d_h', '3d_w', '3d_l', '3d_x', '3d_y', '3d_z', '3d_rot_y', 'score']\n",
    "\n",
    "# 이미지 경로 전체 돌면서 매칭되는 기존 라벨값 불러온 후 변환 및 다른 경로에 저장\n",
    "for filename in original_dir_list:\n",
    "    lab_path = os.path.join(raw_label_root_path, filename)\n",
    "    img_path = os.path.join(raw_img_root_path, filename[:6]+'.png')\n",
    "    img = cv2.imread(img_path, cv2.IMREAD_COLOR)\n",
    "    height = img.shape[0]\n",
    "    width = img.shape[1]\n",
    "    img_id = img_path[-10:-4] # 이미지 넘버\n",
    "    df = pd.read_csv(lab_path, sep=' ', names=columns) # 데이터프레임으로 만들어 주기\n",
    "\n",
    "    df['type'] = df['type'].map(label_mapping) # 숫자로 변환\n",
    "    df = df[df['type'] != 8] # 혹시나 DontCare 있으면 제외하기\n",
    "#     df = df[(df['occluded'] == 1) | (df['occluded'] == 2)]\n",
    "    df['ob_width'] = df['bbox_r'] - df['bbox_l']\n",
    "    df['ob_height'] = df['bbox_b'] - df['bbox_t']\n",
    "    df['x_center'] = df['ob_width'] / 2 + df['bbox_l']\n",
    "    df['y_center'] = df['ob_height'] / 2 + df['bbox_t']\n",
    "    df['norm_x_center'] = df['x_center'] / width\n",
    "    df['norm_y_center'] = df['y_center'] / height\n",
    "    df['norm_ob_width'] = df['ob_width'] / width\n",
    "    df['norm_ob_height'] = df['ob_height'] / height\n",
    "\n",
    "    df_to_save = df.loc[:, ['type', 'norm_x_center', 'norm_y_center', 'norm_ob_width', 'norm_ob_height']]\n",
    "    df_to_save.to_csv(os.path.join(to_path, img_id + '.txt'), sep=' ', index=False, header=False)"
   ]
  },
  {
   "cell_type": "markdown",
   "id": "52596364",
   "metadata": {},
   "source": [
    "### 3) label(DontCare 없앤 버전 & class 숫자 변경) -> bbox 4개 추가"
   ]
  },
  {
   "cell_type": "code",
   "execution_count": 32,
   "id": "a2444795",
   "metadata": {},
   "outputs": [],
   "source": [
    "label_root = '/Users/Jinmi/Desktop/label_2'\n",
    "label_filenames = os.listdir(label_root)"
   ]
  },
  {
   "cell_type": "code",
   "execution_count": 33,
   "id": "8d648a97",
   "metadata": {},
   "outputs": [
    {
     "data": {
      "text/plain": [
       "'006145.txt'"
      ]
     },
     "execution_count": 33,
     "metadata": {},
     "output_type": "execute_result"
    }
   ],
   "source": [
    "label_filenames[0]"
   ]
  },
  {
   "cell_type": "code",
   "execution_count": 34,
   "id": "30e89f29",
   "metadata": {},
   "outputs": [],
   "source": [
    "# 새로운 yolov5 포맷 라벨 저장할 경로\n",
    "try_path = '/Users/Jinmi/Desktop/yolo_labels_v2(without_dontcare_and_class_convert_and_add_bboxes)'\n",
    "if not os.path.exists(try_path):\n",
    "    os.mkdir(try_path)"
   ]
  },
  {
   "cell_type": "code",
   "execution_count": 35,
   "id": "d9322191",
   "metadata": {},
   "outputs": [
    {
     "name": "stdout",
     "output_type": "stream",
     "text": [
      "CPU times: user 1.38 s, sys: 2.6 s, total: 3.98 s\n",
      "Wall time: 6.23 s\n"
     ]
    }
   ],
   "source": [
    "%%time\n",
    "for txt in label_filenames:\n",
    "    filepath = os.path.join(label_root, txt)\n",
    "    \n",
    "    # 기존 라벨 열기\n",
    "    with open(filepath, 'r') as fr:\n",
    "        \n",
    "        # 새로 저장할 라벨 열기\n",
    "        with open(os.path.join(try_path, filepath[-10:]), 'w') as fw:\n",
    "            lines = []\n",
    "            for line in fr:\n",
    "                word_list = line.split()\n",
    "                if word_list[0] == 'DontCare':\n",
    "                    continue\n",
    "                \n",
    "                # DontCare 아닌 클래스는 기존 bbox 우선적으로 추가\n",
    "                lines.append(line)\n",
    "                \n",
    "                # 그 중 Occlusion이 0이면서 'Car', 'Van', 'Truck' 클래스인 라벨에서는 아래처럼 실행\n",
    "                if (word_list[2] == '0') and ((word_list[0] == 'Car') or (word_list[0] == 'Van') or (word_list[0] == 'Truck')):\n",
    "                    half_x = str((float(word_list[6]) + float(word_list[4])) / 2)\n",
    "                    half_y = str((float(word_list[7]) + float(word_list[5])) / 2)\n",
    "                    \n",
    "                    # 기존 bbox 좌표에서 상하좌우 50%씩 분할한 라벨 추가\n",
    "                    additional_1 = [word_list[0], word_list[1], '4', word_list[3], word_list[4], word_list[5], half_x, word_list[7], \n",
    "                                word_list[8], word_list[9], word_list[10], word_list[11], word_list[12], word_list[13], word_list[14]]\n",
    "                    additional_2 = [word_list[0], word_list[1], '4', word_list[3], half_x, word_list[5], word_list[6], word_list[7], \n",
    "                                word_list[8], word_list[9], word_list[10], word_list[11], word_list[12], word_list[13], word_list[14]]\n",
    "                    additional_3 = [word_list[0], word_list[1], '4', word_list[3], word_list[4], half_y, word_list[6], word_list[7], \n",
    "                                word_list[8], word_list[9], word_list[10], word_list[11], word_list[12], word_list[13], word_list[14]]\n",
    "                    additional_4 = [word_list[0], word_list[1], '4', word_list[3], word_list[4], word_list[5], word_list[6], half_y, \n",
    "                                word_list[8], word_list[9], word_list[10], word_list[11], word_list[12], word_list[13], word_list[14]]  \n",
    "\n",
    "                    lines.append(' '.join(additional_1)+'\\n')\n",
    "                    lines.append(' '.join(additional_2)+'\\n')\n",
    "                    lines.append(' '.join(additional_3)+'\\n')\n",
    "                    lines.append(' '.join(additional_4)+'\\n')\n",
    "            fw.writelines(lines)"
   ]
  },
  {
   "cell_type": "code",
   "execution_count": 36,
   "id": "1e8d29ab",
   "metadata": {},
   "outputs": [
    {
     "data": {
      "text/plain": [
       "7481"
      ]
     },
     "execution_count": 36,
     "metadata": {},
     "output_type": "execute_result"
    }
   ],
   "source": [
    "len(os.listdir(try_path))"
   ]
  },
  {
   "cell_type": "markdown",
   "id": "b2af473b",
   "metadata": {},
   "source": [
    " ### 4) label(DontCare 없앤 버전 & class 숫자 변경 & bbox 추가) -> YOLOv5 포맷으로 변경"
   ]
  },
  {
   "cell_type": "code",
   "execution_count": null,
   "id": "11e00cdc",
   "metadata": {},
   "outputs": [],
   "source": [
    "try_path = '/Users/Jinmi/Desktop/yolo_labels_v2(without_dontcare_and_add_bboxes)'\n",
    "if not os.path.exists(try_path):\n",
    "    os.mkdir(try_path)"
   ]
  },
  {
   "cell_type": "code",
   "execution_count": 37,
   "id": "3c71a6d1",
   "metadata": {},
   "outputs": [],
   "source": [
    "import cv2\n",
    "import pandas as pd\n",
    "\n",
    "# 클래스 값을 숫자로 변환해주는 매핑 함수\n",
    "def label_mapping(string):\n",
    "    map_dict = {'Car' : 0,\n",
    "                'Pedestrian' : 1,\n",
    "                'Truck' : 2,\n",
    "                'Cyclist' : 3,\n",
    "                'Van' : 4,\n",
    "                'Tram' : 5,\n",
    "                'Misc' : 6,\n",
    "                'Person_sitting' : 7,\n",
    "                'DontCare' : 8,\n",
    "                }\n",
    "    return map_dict[string]\n",
    "raw_label_root_path = '/Users/Jinmi/Desktop/label_2_v2(without_dontcare_and_add_bboxes)'\n",
    "raw_img_root_path = '/Users/Jinmi/Desktop/kitti_images/training/image_2'\n",
    "label_filenames = os.listdir(raw_label_root_path)\n",
    "to_path = try_path\n",
    "\n",
    "# 라벨 새로 저장할 경로 생성\n",
    "if not os.path.exists(to_path):\n",
    "    os.mkdir(to_path)\n",
    "\n",
    "\n",
    "# 변환 시 직관적으로 알 수 있게끔 해줄 판다스 데이터프레임 헤더 리스트\n",
    "columns = ['type', 'truncated', 'occluded', 'alpha', 'bbox_l', 'bbox_t', 'bbox_r', 'bbox_b', '3d_h', '3d_w', '3d_l', '3d_x', '3d_y', '3d_z', '3d_rot_y', 'score']\n",
    "\n",
    "# 이미지 경로 전체 돌면서 매칭되는 기존 라벨값 불러온 후 변환 및 다른 경로에 저장\n",
    "for filename in label_filenames:\n",
    "    lab_path = os.path.join(raw_label_root_path, filename)\n",
    "    img_path = os.path.join(raw_img_root_path, filename[:6]+'.png')\n",
    "    img = cv2.imread(img_path, cv2.IMREAD_COLOR)\n",
    "    height = img.shape[0]\n",
    "    width = img.shape[1]\n",
    "    img_id = img_path[-10:-4] # 이미지 넘버\n",
    "    df = pd.read_csv(lab_path, sep=' ', names=columns)\n",
    "\n",
    "    df['type'] = df['type'].map(label_mapping)\n",
    "    df = df[df['type'] != 8]\n",
    "    # df = df[(df['occluded'] == 1) | (df['occluded'] == 2)]\n",
    "    df['ob_width'] = df['bbox_r'] - df['bbox_l']\n",
    "    df['ob_height'] = df['bbox_b'] - df['bbox_t']\n",
    "    df['x_center'] = df['ob_width'] / 2 + df['bbox_l']\n",
    "    df['y_center'] = df['ob_height'] / 2 + df['bbox_t']\n",
    "    df['norm_x_center'] = df['x_center'] / width\n",
    "    df['norm_y_center'] = df['y_center'] / height\n",
    "    df['norm_ob_width'] = df['ob_width'] / width\n",
    "    df['norm_ob_height'] = df['ob_height'] / height\n",
    "\n",
    "    df_to_save = df.loc[:, ['type', 'norm_x_center', 'norm_y_center', 'norm_ob_width', 'norm_ob_height']]\n",
    "    df_to_save.to_csv(os.path.join(to_path, img_id + '.txt'), sep=' ', index=False, header=False)"
   ]
  },
  {
   "cell_type": "markdown",
   "id": "d066526e",
   "metadata": {},
   "source": [
    "### 5) 기존에 있던 파일들 train, val로 나누기\n",
    "- val : 1000개\n",
    "- train : 6481개"
   ]
  },
  {
   "cell_type": "code",
   "execution_count": 48,
   "id": "c76aa9a2",
   "metadata": {},
   "outputs": [
    {
     "name": "stdout",
     "output_type": "stream",
     "text": [
      "7481\n",
      "7481\n",
      "['000000.png', '000001.png', '000002.png', '000003.png', '000004.png', '000005.png', '000006.png', '000007.png', '000008.png', '000009.png']\n"
     ]
    }
   ],
   "source": [
    "# 위에서 만든 라벨과 쌍이 되는 이미지를 각각 나눠줄 예정\n",
    "# 원본 이미지 디렉토리\n",
    "img_dir = '/Users/Jinmi/Desktop/kitti_images_2/train/image_2'\n",
    "\n",
    "# train 이미지 디렉토리\n",
    "train_img_dst_dir = '/Users/Jinmi/Desktop/kitti_images_2/train'\n",
    "\n",
    "# val 이미지 디렉토리\n",
    "val_img_dst_dir = '/Users/Jinmi/Desktop/kitti_images_2/val'\n",
    "\n",
    "# 위에서 만든 라벨의 디렉토리\n",
    "label_dir = '/Users/Jinmi/Desktop/yolo_labels_v2(without_dontcare_and_class_convert_and_add_bboxes)_2'\n",
    "train_lbl_dst_dir = '/Users/Jinmi/Desktop/kitti_labels/train'\n",
    "val_lbl_dst_dir = '/Users/Jinmi/Desktop/kitti_labels/val'\n",
    "\n",
    "img_filenames = os.listdir(img_dir)\n",
    "img_filenames = sorted(img_filenames)\n",
    "\n",
    "# 숫자 맞는지 확인\n",
    "print(len(img_filenames))\n",
    "print(len(os.listdir(label_dir)))\n",
    "print(img_filenames[:10])"
   ]
  },
  {
   "cell_type": "code",
   "execution_count": 51,
   "id": "1831e6c5",
   "metadata": {},
   "outputs": [
    {
     "name": "stdout",
     "output_type": "stream",
     "text": [
      "CPU times: user 345 ms, sys: 2.59 s, total: 2.94 s\n",
      "Wall time: 3.67 s\n"
     ]
    }
   ],
   "source": [
    "%%time\n",
    "import shutil\n",
    "\n",
    "for idx, img_filename in enumerate(img_filenames):\n",
    "    img_path = os.path.join(img_dir, img_filename) # 이미지 경로\n",
    "    num = img_filename[:6] # 이미지 숫자\n",
    "    lbl_filename = num+'.txt' # 대응되는 라벨 이름\n",
    "    lbl_path = os.path.join(label_dir, lbl_filename) # 라벨 경로\n",
    "    \n",
    "    # 1000개는 val셋으로 구분하기\n",
    "    if idx < 1000:\n",
    "        img_dst_path = os.path.join(val_img_dst_dir, img_filename)\n",
    "        lbl_dst_path = os.path.join(val_lbl_dst_dir, lbl_filename)\n",
    "        \n",
    "    # 나머지는 train셋으로 구분하기\n",
    "    else:\n",
    "        img_dst_path = os.path.join(train_img_dst_dir, img_filename)\n",
    "        lbl_dst_path = os.path.join(train_lbl_dst_dir, lbl_filename)\n",
    "    \n",
    "    # 이미지 옮기기\n",
    "    shutil.move(img_path, img_dst_path)\n",
    "    \n",
    "    # 라벨 옮기기\n",
    "    shutil.move(lbl_path, lbl_dst_path)"
   ]
  },
  {
   "cell_type": "code",
   "execution_count": 76,
   "id": "41c7401b",
   "metadata": {},
   "outputs": [
    {
     "name": "stdout",
     "output_type": "stream",
     "text": [
      "6481\n",
      "1000\n",
      "6481\n",
      "1000\n"
     ]
    }
   ],
   "source": [
    "print(len(os.listdir(train_img_dst_dir)))\n",
    "print(len(os.listdir(val_img_dst_dir)))\n",
    "print(len(os.listdir(train_lbl_dst_dir)))\n",
    "print(len(os.listdir(val_lbl_dst_dir)))"
   ]
  },
  {
   "cell_type": "code",
   "execution_count": 62,
   "id": "41e9d40d",
   "metadata": {},
   "outputs": [
    {
     "name": "stdout",
     "output_type": "stream",
     "text": [
      "1000\n",
      "True\n"
     ]
    }
   ],
   "source": [
    "# 전부 다 맞는 꼴로 paring 되어 있는지 검증\n",
    "result = True\n",
    "count = 0\n",
    "for img, lbl in zip(sorted(os.listdir(val_img_dst_dir)), sorted(os.listdir(val_lbl_dst_dir))):\n",
    "    if img[:6] != lbl[:6]:\n",
    "        result = False\n",
    "        print(img[:6], lbl[:6])\n",
    "    count += 1\n",
    "\n",
    "print(count)\n",
    "print(result)"
   ]
  },
  {
   "cell_type": "markdown",
   "id": "4ce43df1",
   "metadata": {},
   "source": [
    "### val 라벨 다시 옮기기"
   ]
  },
  {
   "cell_type": "code",
   "execution_count": 69,
   "id": "c571ba23",
   "metadata": {},
   "outputs": [
    {
     "name": "stdout",
     "output_type": "stream",
     "text": [
      "0 0.9075644122383252 0.7419466666666668 0.1832608695652174 0.5107733333333333\n",
      "0 0.861749194847021 0.7419466666666668 0.09163043478260866 0.5107733333333333\n",
      "0 0.9533796296296295 0.7419466666666668 0.09163043478260875 0.5107733333333333\n",
      "0 0.9075644122383252 0.8696400000000001 0.1832608695652174 0.2553866666666666\n",
      "0 0.9075644122383252 0.6142533333333334 0.1832608695652174 0.2553866666666667\n",
      "0 0.36390901771336553 0.6400133333333333 0.15707729468599033 0.29058666666666666\n",
      "0 0.32463969404186793 0.6400133333333333 0.07853864734299518 0.29058666666666666\n",
      "0 0.40317834138486314 0.6400133333333333 0.07853864734299514 0.29058666666666666\n",
      "0 0.36390901771336553 0.71266 0.15707729468599033 0.14529333333333336\n",
      "0 0.36390901771336553 0.5673666666666667 0.15707729468599033 0.1452933333333333\n",
      "1 0.7001690821256038 0.5082666666666668 0.016215780998389683 0.16426666666666664\n",
      "0 0.7030917874396135 0.5729066666666667 0.08632850241545896 0.19584\n",
      "0 0.6815096618357488 0.5729066666666667 0.04316425120772948 0.19584\n",
      "0 0.7246739130434783 0.5729066666666667 0.04316425120772948 0.19584\n",
      "0 0.7030917874396135 0.6218666666666667 0.08632850241545896 0.09792\n",
      "0 0.7030917874396135 0.5239466666666667 0.08632850241545896 0.09792\n",
      "0 0.6760426731078905 0.5448266666666667 0.06297101449275365 0.14\n",
      "0 0.4805152979066022 0.5462 0.06159420289855073 0.13752000000000006\n",
      "0 0.46511674718196455 0.5462 0.030797101449275364 0.13752000000000006\n",
      "0 0.4959138486312399 0.5462 0.030797101449275364 0.13752000000000006\n",
      "0 0.4805152979066022 0.58058 0.06159420289855073 0.06876000000000007\n",
      "0 0.4805152979066022 0.51182 0.06159420289855073 0.06875999999999999\n",
      "0 0.5034420289855073 0.5291333333333333 0.043438003220611955 0.10530666666666662\n",
      "0 0.6540136876006442 0.5308533333333333 0.04459742351046698 0.11216000000000001\n",
      "0 0.5519122383252818 0.5060133333333333 0.035000000000000024 0.07677333333333332\n",
      "\n",
      " 25\n"
     ]
    }
   ],
   "source": [
    "with open(os.path.join(val_lbl_dst_dir, '000010.txt'), 'r') as f:\n",
    "    count = 0\n",
    "    for line in f:\n",
    "        print(line.strip())\n",
    "        count += 1\n",
    "    print('\\n',count)"
   ]
  },
  {
   "cell_type": "code",
   "execution_count": 74,
   "id": "4a143800",
   "metadata": {},
   "outputs": [],
   "source": [
    "val_labels = os.listdir(val_lbl_dst_dir)\n",
    "\n",
    "raw_label_root_path = '/Users/Jinmi/Desktop/yolo_labels_v1(without_dontcare)'\n",
    "\n",
    "for label in val_labels:\n",
    "    label_path = os.path.join(raw_label_root_path, label)\n",
    "    dst_path = os.path.join(val_lbl_dst_dir, label)\n",
    "    shutil.copy(label_path, dst_path)"
   ]
  },
  {
   "cell_type": "code",
   "execution_count": 75,
   "id": "eace7f57",
   "metadata": {},
   "outputs": [
    {
     "name": "stdout",
     "output_type": "stream",
     "text": [
      "0 0.9075644122383252 0.7419466666666668 0.1832608695652174 0.5107733333333333\n",
      "0 0.36390901771336553 0.6400133333333333 0.15707729468599033 0.29058666666666666\n",
      "1 0.7001690821256038 0.5082666666666668 0.016215780998389683 0.16426666666666664\n",
      "0 0.7030917874396135 0.5729066666666667 0.08632850241545896 0.19584\n",
      "0 0.6760426731078905 0.5448266666666667 0.06297101449275365 0.14\n",
      "0 0.4805152979066022 0.5462 0.06159420289855073 0.13752000000000006\n",
      "0 0.5034420289855073 0.5291333333333333 0.043438003220611955 0.10530666666666662\n",
      "0 0.6540136876006442 0.5308533333333333 0.04459742351046698 0.11216000000000001\n",
      "0 0.5519122383252818 0.5060133333333333 0.035000000000000024 0.07677333333333332\n",
      "\n",
      " 9\n"
     ]
    }
   ],
   "source": [
    "with open(os.path.join(val_lbl_dst_dir, '000010.txt'), 'r') as f:\n",
    "    count = 0\n",
    "    for line in f:\n",
    "        print(line.strip())\n",
    "        count += 1\n",
    "    print('\\n',count)"
   ]
  },
  {
   "cell_type": "code",
   "execution_count": null,
   "id": "df82bae0",
   "metadata": {},
   "outputs": [],
   "source": []
  }
 ],
 "metadata": {
  "kernelspec": {
   "display_name": "Python 3 (ipykernel)",
   "language": "python",
   "name": "python3"
  },
  "language_info": {
   "codemirror_mode": {
    "name": "ipython",
    "version": 3
   },
   "file_extension": ".py",
   "mimetype": "text/x-python",
   "name": "python",
   "nbconvert_exporter": "python",
   "pygments_lexer": "ipython3",
   "version": "3.9.7"
  }
 },
 "nbformat": 4,
 "nbformat_minor": 5
}
